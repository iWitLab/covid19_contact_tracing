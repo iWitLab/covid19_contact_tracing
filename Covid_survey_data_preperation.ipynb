{
 "cells": [
  {
   "cell_type": "markdown",
   "metadata": {},
   "source": [
    "# Introduction"
   ]
  },
  {
   "cell_type": "markdown",
   "metadata": {},
   "source": [
    "The analysis contains several sections:\n",
    "- Data Preperation\n",
    "- Descriptive statistics and graphs regarding the whole data\n",
    "- Modeling installation of HaMagen using logistic regression \n",
    "- Analyzing demographics of installing Hamagen\n",
    "- Modeling approval with cellular contact tracing using OLS\n",
    "- Modeling recommending HaMagen using OLS\n",
    "- Modeling uninstallation of Hamagen using logistic regression"
   ]
  },
  {
   "cell_type": "code",
   "execution_count": 1,
   "metadata": {},
   "outputs": [],
   "source": [
    "import numpy as np\n",
    "import pandas as pd\n",
    "from scipy import stats\n",
    "import statsmodels.api as sm\n",
    "from sklearn.linear_model import LogisticRegression\n",
    "from sklearn import metrics\n",
    "from sklearn.model_selection import train_test_split\n",
    "import matplotlib.pyplot as plt \n",
    "import researchpy as rp\n",
    "from sklearn.datasets import load_iris\n",
    "from factor_analyzer import FactorAnalyzer\n",
    "from statsmodels.formula.api import ols\n",
    "import seaborn as sns\n",
    "import scipy.stats as stats\n",
    "\n",
    "\n"
   ]
  },
  {
   "cell_type": "markdown",
   "metadata": {},
   "source": [
    "# Data Preperation"
   ]
  },
  {
   "cell_type": "code",
   "execution_count": 2,
   "metadata": {},
   "outputs": [
    {
     "data": {
      "text/html": [
       "<div>\n",
       "<style scoped>\n",
       "    .dataframe tbody tr th:only-of-type {\n",
       "        vertical-align: middle;\n",
       "    }\n",
       "\n",
       "    .dataframe tbody tr th {\n",
       "        vertical-align: top;\n",
       "    }\n",
       "\n",
       "    .dataframe thead th {\n",
       "        text-align: right;\n",
       "    }\n",
       "</style>\n",
       "<table border=\"1\" class=\"dataframe\">\n",
       "  <thead>\n",
       "    <tr style=\"text-align: right;\">\n",
       "      <th></th>\n",
       "      <th>Time Started</th>\n",
       "      <th>Date Submitted</th>\n",
       "      <th>Status</th>\n",
       "      <th>age</th>\n",
       "      <th>corona_threat_population</th>\n",
       "      <th>corona_threat_me</th>\n",
       "      <th>corona_worry_me</th>\n",
       "      <th>corona_worry_others</th>\n",
       "      <th>trust_leaders</th>\n",
       "      <th>follow_instructions</th>\n",
       "      <th>...</th>\n",
       "      <th>language</th>\n",
       "      <th>hamagen_install_numbers</th>\n",
       "      <th>installed</th>\n",
       "      <th>gender_ord</th>\n",
       "      <th>socio_economy_level</th>\n",
       "      <th>education_level</th>\n",
       "      <th>religion_level</th>\n",
       "      <th>age_group</th>\n",
       "      <th>hamagen_can_collect</th>\n",
       "      <th>tech</th>\n",
       "    </tr>\n",
       "    <tr>\n",
       "      <th>Response ID</th>\n",
       "      <th></th>\n",
       "      <th></th>\n",
       "      <th></th>\n",
       "      <th></th>\n",
       "      <th></th>\n",
       "      <th></th>\n",
       "      <th></th>\n",
       "      <th></th>\n",
       "      <th></th>\n",
       "      <th></th>\n",
       "      <th></th>\n",
       "      <th></th>\n",
       "      <th></th>\n",
       "      <th></th>\n",
       "      <th></th>\n",
       "      <th></th>\n",
       "      <th></th>\n",
       "      <th></th>\n",
       "      <th></th>\n",
       "      <th></th>\n",
       "      <th></th>\n",
       "    </tr>\n",
       "  </thead>\n",
       "  <tbody>\n",
       "    <tr>\n",
       "      <th>379</th>\n",
       "      <td>05/05/2020 16:23</td>\n",
       "      <td>05/05/2020 16:26</td>\n",
       "      <td>Complete</td>\n",
       "      <td>21.0</td>\n",
       "      <td>3</td>\n",
       "      <td>2</td>\n",
       "      <td>4</td>\n",
       "      <td>4</td>\n",
       "      <td>3</td>\n",
       "      <td>5</td>\n",
       "      <td>...</td>\n",
       "      <td>hebrew</td>\n",
       "      <td>0</td>\n",
       "      <td>0</td>\n",
       "      <td>1</td>\n",
       "      <td>1</td>\n",
       "      <td>2</td>\n",
       "      <td>1</td>\n",
       "      <td>2</td>\n",
       "      <td>3</td>\n",
       "      <td>4.8</td>\n",
       "    </tr>\n",
       "    <tr>\n",
       "      <th>61</th>\n",
       "      <td>04/05/2020 19:23</td>\n",
       "      <td>04/05/2020 19:29</td>\n",
       "      <td>Complete</td>\n",
       "      <td>34.0</td>\n",
       "      <td>4</td>\n",
       "      <td>3</td>\n",
       "      <td>5</td>\n",
       "      <td>5</td>\n",
       "      <td>4</td>\n",
       "      <td>5</td>\n",
       "      <td>...</td>\n",
       "      <td>arabic</td>\n",
       "      <td>0</td>\n",
       "      <td>0</td>\n",
       "      <td>1</td>\n",
       "      <td>0</td>\n",
       "      <td>2</td>\n",
       "      <td>2</td>\n",
       "      <td>3</td>\n",
       "      <td>4</td>\n",
       "      <td>1.4</td>\n",
       "    </tr>\n",
       "    <tr>\n",
       "      <th>280</th>\n",
       "      <td>05/05/2020 15:22</td>\n",
       "      <td>05/05/2020 15:24</td>\n",
       "      <td>Complete</td>\n",
       "      <td>21.0</td>\n",
       "      <td>2</td>\n",
       "      <td>3</td>\n",
       "      <td>4</td>\n",
       "      <td>2</td>\n",
       "      <td>3</td>\n",
       "      <td>3</td>\n",
       "      <td>...</td>\n",
       "      <td>arabic</td>\n",
       "      <td>1</td>\n",
       "      <td>1</td>\n",
       "      <td>1</td>\n",
       "      <td>1</td>\n",
       "      <td>4</td>\n",
       "      <td>3</td>\n",
       "      <td>2</td>\n",
       "      <td>3</td>\n",
       "      <td>3.0</td>\n",
       "    </tr>\n",
       "    <tr>\n",
       "      <th>288</th>\n",
       "      <td>05/05/2020 15:24</td>\n",
       "      <td>05/05/2020 15:33</td>\n",
       "      <td>Complete</td>\n",
       "      <td>65.0</td>\n",
       "      <td>2</td>\n",
       "      <td>3</td>\n",
       "      <td>1</td>\n",
       "      <td>1</td>\n",
       "      <td>4</td>\n",
       "      <td>5</td>\n",
       "      <td>...</td>\n",
       "      <td>hebrew</td>\n",
       "      <td>0</td>\n",
       "      <td>0</td>\n",
       "      <td>0</td>\n",
       "      <td>3</td>\n",
       "      <td>2</td>\n",
       "      <td>1</td>\n",
       "      <td>6</td>\n",
       "      <td>4</td>\n",
       "      <td>2.0</td>\n",
       "    </tr>\n",
       "    <tr>\n",
       "      <th>96</th>\n",
       "      <td>04/05/2020 23:27</td>\n",
       "      <td>04/05/2020 23:30</td>\n",
       "      <td>Complete</td>\n",
       "      <td>37.0</td>\n",
       "      <td>2</td>\n",
       "      <td>2</td>\n",
       "      <td>3</td>\n",
       "      <td>4</td>\n",
       "      <td>2</td>\n",
       "      <td>3</td>\n",
       "      <td>...</td>\n",
       "      <td>arabic</td>\n",
       "      <td>0</td>\n",
       "      <td>0</td>\n",
       "      <td>1</td>\n",
       "      <td>3</td>\n",
       "      <td>4</td>\n",
       "      <td>2</td>\n",
       "      <td>3</td>\n",
       "      <td>5</td>\n",
       "      <td>2.8</td>\n",
       "    </tr>\n",
       "  </tbody>\n",
       "</table>\n",
       "<p>5 rows × 54 columns</p>\n",
       "</div>"
      ],
      "text/plain": [
       "                 Time Started    Date Submitted    Status   age  \\\n",
       "Response ID                                                       \n",
       "379          05/05/2020 16:23  05/05/2020 16:26  Complete  21.0   \n",
       "61           04/05/2020 19:23  04/05/2020 19:29  Complete  34.0   \n",
       "280          05/05/2020 15:22  05/05/2020 15:24  Complete  21.0   \n",
       "288          05/05/2020 15:24  05/05/2020 15:33  Complete  65.0   \n",
       "96           04/05/2020 23:27  04/05/2020 23:30  Complete  37.0   \n",
       "\n",
       "             corona_threat_population  corona_threat_me  corona_worry_me  \\\n",
       "Response ID                                                                \n",
       "379                                 3                 2                4   \n",
       "61                                  4                 3                5   \n",
       "280                                 2                 3                4   \n",
       "288                                 2                 3                1   \n",
       "96                                  2                 2                3   \n",
       "\n",
       "             corona_worry_others  trust_leaders  follow_instructions  ...  \\\n",
       "Response ID                                                           ...   \n",
       "379                            4              3                    5  ...   \n",
       "61                             5              4                    5  ...   \n",
       "280                            2              3                    3  ...   \n",
       "288                            1              4                    5  ...   \n",
       "96                             4              2                    3  ...   \n",
       "\n",
       "            language  hamagen_install_numbers installed gender_ord  \\\n",
       "Response ID                                                          \n",
       "379           hebrew                        0         0          1   \n",
       "61            arabic                        0         0          1   \n",
       "280           arabic                        1         1          1   \n",
       "288           hebrew                        0         0          0   \n",
       "96            arabic                        0         0          1   \n",
       "\n",
       "            socio_economy_level education_level religion_level age_group  \\\n",
       "Response ID                                                                \n",
       "379                           1               2              1         2   \n",
       "61                            0               2              2         3   \n",
       "280                           1               4              3         2   \n",
       "288                           3               2              1         6   \n",
       "96                            3               4              2         3   \n",
       "\n",
       "             hamagen_can_collect  tech  \n",
       "Response ID                             \n",
       "379                            3   4.8  \n",
       "61                             4   1.4  \n",
       "280                            3   3.0  \n",
       "288                            4   2.0  \n",
       "96                             5   2.8  \n",
       "\n",
       "[5 rows x 54 columns]"
      ]
     },
     "execution_count": 2,
     "metadata": {},
     "output_type": "execute_result"
    }
   ],
   "source": [
    "sur = pd.read_csv('/Users/erantoch/Google Drive/Research/Pbd for Covid19/Survey/covid_survey.csv', index_col='Response ID')\n",
    "sur.head()"
   ]
  },
  {
   "cell_type": "markdown",
   "metadata": {},
   "source": [
    "## Creating Factors\n",
    "\n",
    "Notice that factor eveluation is done somewhere below"
   ]
  },
  {
   "cell_type": "code",
   "execution_count": 3,
   "metadata": {},
   "outputs": [],
   "source": [
    "\n",
    "\n",
    "sur['hamagen_privacy'] = (sur.hamagen_privacy_concern + sur.hamagen_can_collect_sensitive) / 2\n",
    "sur['cellular_utility'] = (sur.cellular_help_prevent + sur.cellular_reduce_my_risk) / 2\n",
    "sur['cellular_privacy'] = (sur.cellular_privacy_concern + sur.cellular_can_collect) / 2\n",
    "sur['hamagen_utility'] = (sur.hamagen_help_no_infect + sur.hamagen_reduce_my_risk) / 2\n",
    "sur['cellular_attitude'] = (sur.cellular_help_prevent + sur.cellular_reduce_my_risk + sur.cellular_trust_delete) / 3 \n",
    "sur['hamagen_attitude'] = (sur.hamagen_recommend + sur.hamagen_public_areas) / 2\n",
    "sur['covid_concern'] = (sur.corona_threat_population + sur.corona_threat_me + sur.corona_worry_me) / 3\n",
    "\n",
    "\n",
    "sur['tech'] = (sur['know_pdf'] + sur['know_wiki'] + sur['know_cache'] + sur['know_phishing'] + sur['know_spyware'])/5\n",
    "\n",
    "\n"
   ]
  },
  {
   "cell_type": "code",
   "execution_count": 4,
   "metadata": {},
   "outputs": [
    {
     "data": {
      "text/html": [
       "<div>\n",
       "<style scoped>\n",
       "    .dataframe tbody tr th:only-of-type {\n",
       "        vertical-align: middle;\n",
       "    }\n",
       "\n",
       "    .dataframe tbody tr th {\n",
       "        vertical-align: top;\n",
       "    }\n",
       "\n",
       "    .dataframe thead th {\n",
       "        text-align: right;\n",
       "    }\n",
       "</style>\n",
       "<table border=\"1\" class=\"dataframe\">\n",
       "  <thead>\n",
       "    <tr style=\"text-align: right;\">\n",
       "      <th></th>\n",
       "      <th>count</th>\n",
       "      <th>unique</th>\n",
       "      <th>top</th>\n",
       "      <th>freq</th>\n",
       "    </tr>\n",
       "  </thead>\n",
       "  <tbody>\n",
       "    <tr>\n",
       "      <th>work_in_healthcare</th>\n",
       "      <td>519</td>\n",
       "      <td>2</td>\n",
       "      <td>No</td>\n",
       "      <td>487</td>\n",
       "    </tr>\n",
       "    <tr>\n",
       "      <th>special_risk</th>\n",
       "      <td>519</td>\n",
       "      <td>2</td>\n",
       "      <td>No</td>\n",
       "      <td>409</td>\n",
       "    </tr>\n",
       "    <tr>\n",
       "      <th>corona_family_risk</th>\n",
       "      <td>519</td>\n",
       "      <td>2</td>\n",
       "      <td>Yes</td>\n",
       "      <td>435</td>\n",
       "    </tr>\n",
       "    <tr>\n",
       "      <th>corona_know_positive</th>\n",
       "      <td>519</td>\n",
       "      <td>2</td>\n",
       "      <td>No</td>\n",
       "      <td>373</td>\n",
       "    </tr>\n",
       "    <tr>\n",
       "      <th>corona_positive</th>\n",
       "      <td>519</td>\n",
       "      <td>2</td>\n",
       "      <td>No</td>\n",
       "      <td>509</td>\n",
       "    </tr>\n",
       "    <tr>\n",
       "      <th>was_in_quarentine</th>\n",
       "      <td>519</td>\n",
       "      <td>2</td>\n",
       "      <td>No</td>\n",
       "      <td>475</td>\n",
       "    </tr>\n",
       "  </tbody>\n",
       "</table>\n",
       "</div>"
      ],
      "text/plain": [
       "                     count unique  top freq\n",
       "work_in_healthcare     519      2   No  487\n",
       "special_risk           519      2   No  409\n",
       "corona_family_risk     519      2  Yes  435\n",
       "corona_know_positive   519      2   No  373\n",
       "corona_positive        519      2   No  509\n",
       "was_in_quarentine      519      2   No  475"
      ]
     },
     "execution_count": 4,
     "metadata": {},
     "output_type": "execute_result"
    }
   ],
   "source": [
    "hamagen_cols=['hamagen_recommend', 'hamagen_public_areas', 'hamagen_help_no_infect', 'hamagen_reduce_my_risk', 'hamagen_privacy_concern', \n",
    "      'hamagen_can_collect_sensitive'] \n",
    "\n",
    "cellular_cols=['cellular_help_prevent', 'cellular_reduce_my_risk', 'cellular_trust_delete', 'cellular_privacy_concern', 'cellular_can_collect', \n",
    "      'cellular_accept_leave_phone_home'] \n",
    "\n",
    "covid_cols=['corona_threat_population', 'corona_threat_me', 'corona_worry_others', 'corona_worry_me', 'trust_leaders', \n",
    "      'follow_instructions', 'corona_financial_hurt'] \n",
    "\n",
    "binary_cols=['work_in_healthcare', 'special_risk', 'corona_family_risk', 'corona_know_positive', 'corona_positive', \n",
    "      'was_in_quarentine'] \n",
    "\n",
    "sur[binary_cols].describe().transpose()"
   ]
  },
  {
   "cell_type": "markdown",
   "metadata": {},
   "source": [
    "# Descriptive statistics"
   ]
  },
  {
   "cell_type": "markdown",
   "metadata": {},
   "source": [
    "## Aux Functions"
   ]
  },
  {
   "cell_type": "code",
   "execution_count": 5,
   "metadata": {},
   "outputs": [],
   "source": [
    "def create_stacked_bar(df, right_margin=1.3, hide_first_label=True, figsize=(16,10), savefile=False):\n",
    "    likert_colors = ['white', '#e36c33', '#edad88','gainsboro','#829cb2','#3e6487']\n",
    "    dummy = df.copy()\n",
    "    column_names = df.columns\n",
    "    middles = dummy[[column_names[0],column_names[1]]].sum(axis=1)+dummy[column_names[2]]*.5\n",
    "\n",
    "    longest = middles.max()\n",
    "    complete_longest = dummy.sum(axis=1).max()\n",
    "    dummy.insert(0, '', (middles - longest).abs())\n",
    "\n",
    "    ax = dummy.plot.barh(stacked=True, color=likert_colors, edgecolor='none', figsize=figsize)\n",
    "    z = plt.axvline(longest, linestyle='--', color='#c7cdd1', alpha=1)\n",
    "    z.set_zorder(-1)\n",
    "\n",
    "    plt.margins(0.05, 0.1)\n",
    "    plt.xlim(-10, int(complete_longest*right_margin))\n",
    "    xvalues = range(0,int(complete_longest*right_margin),50)\n",
    "    xlabels = [str(x-longest) for x in xvalues]\n",
    "    plt.xticks(xvalues, xlabels)\n",
    "    \n",
    "    for lbl in ax.patches:\n",
    "        if hide_first_label and lbl.get_x() > 0:\n",
    "            ax.annotate(int(lbl.get_width()), (lbl.get_x(), lbl.get_y()+.5), verticalalignment='bottom', fontsize=10, color='#3e6487')\n",
    "\n",
    "    if savefile == True:\n",
    "        plt.gcf().tight_layout()\n",
    "        plt.savefig('output.png', format='png', orientation='landscape')\n",
    "        \n",
    "    plt.show()\n",
    "    \n",
    "    \n"
   ]
  },
  {
   "cell_type": "markdown",
   "metadata": {},
   "source": [
    "## General Variables\n",
    "\n",
    "- Almost perfect symmatry between people who believe that the corona \n",
    "- People are more worried about threat to others than to themselves (differnt for different ages?)\n",
    "- About 65% either agree or strongly agree that they trust their leaders\n",
    "- About 80% follow instructions"
   ]
  },
  {
   "cell_type": "code",
   "execution_count": 6,
   "metadata": {},
   "outputs": [
    {
     "data": {
      "image/png": "[encoded data removed]",
      "text/plain": [
       "<Figure size 1152x720 with 1 Axes>"
      ]
     },
     "metadata": {
      "needs_background": "light"
     },
     "output_type": "display_data"
    }
   ],
   "source": [
    "cols=['corona_financial_hurt', 'follow_instructions', 'trust_leaders', 'corona_worry_me', 'corona_worry_others', \n",
    "      'corona_threat_me', 'corona_threat_population'] \n",
    "small=sur[cols]\n",
    "df1 = small.apply(pd.Series.value_counts)\n",
    "df1.head()\n",
    "pivot_df = df1.transpose() \n",
    "pivot_df.columns = ['SD','D','N',\n",
    "                     'A','SA']\n",
    "\n",
    "pivot_df.rename(index={'corona_threat_population':'The novel coronavirus thretens the population\\nof Israel'},inplace=True)\n",
    "pivot_df.rename(index={'corona_threat_me':'The novel coronavirus threatens my health'},inplace=True)\n",
    "pivot_df.rename(index={'corona_worry_others':'I am worried that people I know will get\\ninfected by the novel coronavirus'},inplace=True)\n",
    "pivot_df.rename(index={'corona_worry_me':'I am worried to get infected by the\\nnovel coronavirus'},inplace=True)\n",
    "pivot_df.rename(index={'trust_leaders':'I have trust in the professional authorities\\nthat lead the handling of the coronavirus'},inplace=True)\n",
    "pivot_df.rename(index={'follow_instructions':'I stricly follow the insuctions of\\nthe health ministry to fight the coronavirus'},inplace=True)\n",
    "pivot_df.rename(index={'corona_financial_hurt':'The coronavirus crisis is hurting me financially'},inplace=True)\n",
    "\n",
    "\n",
    "create_stacked_bar(pivot_df, 1.5, savefile=True)"
   ]
  },
  {
   "cell_type": "markdown",
   "metadata": {},
   "source": [
    "## Hamagen"
   ]
  },
  {
   "cell_type": "markdown",
   "metadata": {},
   "source": [
    "We have asked our 520 participants about their views about The HaMagen app (The Shield) -- the official Israeli contact tracing app, developed by the Ministry of Health, and available for Android and iOS. These are some descriptive findings. \n",
    "\n",
    "About 31% of our participants have reported installing the app. This is higher than the official numbers of 1.58 million people who installed it in Israel (about 20% of the install base). However, our population is somewhat more educated than the average citizen -- and our results show a correlation between installation and education. \n",
    "\n",
    "People are not very happy with HaMagen. Only 28% will tend to recommend installing it to their friends and family (versus 43%). 27% think it will reduce their own chances of contracting the coronavirus and only 32% think it will reduce the spread of the virus in general (though only 28% have negative views).\n",
    "\n",
    "Privacy concerns are prevelant. 59% feel that it collecs sensitive information (versus 19%) and 43% are worried for their privacy (versus 32% who do not have concerns). Further analysis shows that privacy concerns have a strong effect on installing the app and uninstalling it. "
   ]
  },
  {
   "cell_type": "code",
   "execution_count": null,
   "metadata": {},
   "outputs": [],
   "source": []
  },
  {
   "cell_type": "code",
   "execution_count": 10,
   "metadata": {},
   "outputs": [
    {
     "name": "stdout",
     "output_type": "stream",
     "text": [
      "          No  Yes  Removed\n",
      "Install  308  166       45\n"
     ]
    },
    {
     "data": {
      "image/png": "[encoded data removed]",
      "text/plain": [
       "<Figure size 720x216 with 1 Axes>"
      ]
     },
     "metadata": {
      "needs_background": "light"
     },
     "output_type": "display_data"
    }
   ],
   "source": [
    "cols=['hamagen_install'] \n",
    "small=sur[cols]\n",
    "df1 = small.apply(pd.Series.value_counts)\n",
    "pivot_df = df1.transpose() \n",
    "\n",
    "pivot_df.rename(index={'hamagen_install':'Install'},inplace=True)\n",
    "\n",
    "print(pivot_df)\n",
    "\n",
    "ax = pivot_df.plot.barh(stacked=True, figsize=(10,3))\n",
    "\n",
    "for lbl in ax.patches:\n",
    "    ax.annotate(int(lbl.get_width()), (lbl.get_x(), lbl.get_y()+.5), horizontalalignment='left', verticalalignment='bottom', fontfamily='sans-serif', fontsize=10, color='#3e6487')\n",
    "\n",
    "plt.savefig('hamagen_install.png', format='png', orientation='landscape')"
   ]
  },
  {
   "cell_type": "code",
   "execution_count": 8,
   "metadata": {},
   "outputs": [
    {
     "name": "stdout",
     "output_type": "stream",
     "text": [
      "          No  Yes  Removed\n",
      "Install  308  166       45\n"
     ]
    },
    {
     "name": "stderr",
     "output_type": "stream",
     "text": [
      "<ipython-input-8-e856d631580c>:15: MatplotlibDeprecationWarning: savefig() got unexpected keyword argument \"landscape\" which is no longer supported as of 3.3 and will become an error two minor releases later\n",
      "  plt.savefig('hamagen_install.png', format='png', landscape='landscape', figsize=(12,8))\n",
      "<ipython-input-8-e856d631580c>:15: MatplotlibDeprecationWarning: savefig() got unexpected keyword argument \"figsize\" which is no longer supported as of 3.3 and will become an error two minor releases later\n",
      "  plt.savefig('hamagen_install.png', format='png', landscape='landscape', figsize=(12,8))\n"
     ]
    },
    {
     "data": {
      "image/png": "[encoded data removed]",
      "text/plain": [
       "<Figure size 720x216 with 1 Axes>"
      ]
     },
     "metadata": {
      "needs_background": "light"
     },
     "output_type": "display_data"
    }
   ],
   "source": [
    "cols=['hamagen_install'] \n",
    "small=sur[cols]\n",
    "df1 = small.apply(pd.Series.value_counts)\n",
    "pivot_df = df1.transpose() \n",
    "\n",
    "pivot_df.rename(index={'hamagen_install':'Install'},inplace=True)\n",
    "\n",
    "print(pivot_df)\n",
    "\n",
    "ax = pivot_df.plot.barh(stacked=True, figsize=(10,3))\n",
    "\n",
    "for lbl in ax.patches:\n",
    "    ax.annotate(int(lbl.get_width()), (lbl.get_x(), lbl.get_y()+.5), horizontalalignment='left', verticalalignment='bottom', fontfamily='sans-serif', fontsize=10, color='#3e6487')\n",
    "\n"
   ]
  },
  {
   "cell_type": "code",
   "execution_count": 8,
   "metadata": {},
   "outputs": [
    {
     "data": {
      "image/png": "[encoded data removed]",
      "text/plain": [
       "<Figure size 792x432 with 1 Axes>"
      ]
     },
     "metadata": {
      "needs_background": "light"
     },
     "output_type": "display_data"
    },
    {
     "data": {
      "text/html": [
       "<div>\n",
       "<style scoped>\n",
       "    .dataframe tbody tr th:only-of-type {\n",
       "        vertical-align: middle;\n",
       "    }\n",
       "\n",
       "    .dataframe tbody tr th {\n",
       "        vertical-align: top;\n",
       "    }\n",
       "\n",
       "    .dataframe thead th {\n",
       "        text-align: right;\n",
       "    }\n",
       "</style>\n",
       "<table border=\"1\" class=\"dataframe\">\n",
       "  <thead>\n",
       "    <tr style=\"text-align: right;\">\n",
       "      <th></th>\n",
       "      <th>1</th>\n",
       "      <th>2</th>\n",
       "      <th>3</th>\n",
       "      <th>4</th>\n",
       "      <th>5</th>\n",
       "    </tr>\n",
       "  </thead>\n",
       "  <tbody>\n",
       "    <tr>\n",
       "      <th>People who enter malls or public\\ntransport should be required\\nto install the HaMagen app</th>\n",
       "      <td>137</td>\n",
       "      <td>88</td>\n",
       "      <td>112</td>\n",
       "      <td>97</td>\n",
       "      <td>85</td>\n",
       "    </tr>\n",
       "    <tr>\n",
       "      <th>The app can collect sensitive\\ninformation</th>\n",
       "      <td>35</td>\n",
       "      <td>64</td>\n",
       "      <td>113</td>\n",
       "      <td>156</td>\n",
       "      <td>151</td>\n",
       "    </tr>\n",
       "    <tr>\n",
       "      <th>I am worried of the information\\nthe app can collect on me</th>\n",
       "      <td>79</td>\n",
       "      <td>87</td>\n",
       "      <td>129</td>\n",
       "      <td>115</td>\n",
       "      <td>109</td>\n",
       "    </tr>\n",
       "    <tr>\n",
       "      <th>The app will reduce the chances\\nthat I will catch the coronavirus</th>\n",
       "      <td>74</td>\n",
       "      <td>135</td>\n",
       "      <td>166</td>\n",
       "      <td>98</td>\n",
       "      <td>46</td>\n",
       "    </tr>\n",
       "    <tr>\n",
       "      <th>The app will help reduce the \\nspread of the coronavirus</th>\n",
       "      <td>46</td>\n",
       "      <td>104</td>\n",
       "      <td>176</td>\n",
       "      <td>129</td>\n",
       "      <td>64</td>\n",
       "    </tr>\n",
       "    <tr>\n",
       "      <th>I will recommend installing the\\napp to my friends and family</th>\n",
       "      <td>137</td>\n",
       "      <td>93</td>\n",
       "      <td>140</td>\n",
       "      <td>92</td>\n",
       "      <td>57</td>\n",
       "    </tr>\n",
       "  </tbody>\n",
       "</table>\n",
       "</div>"
      ],
      "text/plain": [
       "                                                      1    2    3    4    5\n",
       "People who enter malls or public\\ntransport sho...  137   88  112   97   85\n",
       "The app can collect sensitive\\ninformation           35   64  113  156  151\n",
       "I am worried of the information\\nthe app can co...   79   87  129  115  109\n",
       "The app will reduce the chances\\nthat I will ca...   74  135  166   98   46\n",
       "The app will help reduce the \\nspread of the co...   46  104  176  129   64\n",
       "I will recommend installing the\\napp to my frie...  137   93  140   92   57"
      ]
     },
     "execution_count": 8,
     "metadata": {},
     "output_type": "execute_result"
    }
   ],
   "source": [
    "cols=['hamagen_public_areas', 'hamagen_can_collect_sensitive', 'hamagen_privacy_concern', 'hamagen_reduce_my_risk', 'hamagen_help_no_infect',\n",
    "      'hamagen_recommend'] \n",
    "small=sur[cols]\n",
    "df1 = small.apply(pd.Series.value_counts)\n",
    "df1.head()\n",
    "likert_colors = ['firebrick','lightcoral','gainsboro','cornflowerblue', 'darkblue']\n",
    "pivot_df = df1.transpose() \n",
    "\n",
    "pivot_df.rename(index={'hamagen_recommend':'I will recommend installing the\\napp to my friends and family'},inplace=True)\n",
    "pivot_df.rename(index={'hamagen_help_no_infect':'The app will help reduce the \\nspread of the coronavirus'},inplace=True)\n",
    "pivot_df.rename(index={'hamagen_reduce_my_risk':'The app will reduce the chances\\nthat I will catch the coronavirus'},inplace=True)\n",
    "pivot_df.rename(index={'hamagen_privacy_concern':'I am worried of the information\\nthe app can collect on me'},inplace=True)\n",
    "pivot_df.rename(index={'hamagen_can_collect_sensitive':'The app can collect sensitive\\ninformation'},inplace=True)\n",
    "pivot_df.rename(index={'hamagen_public_areas':'People who enter malls or public\\ntransport should be required\\nto install the HaMagen app'},inplace=True)\n",
    "\n",
    "##pivot_df.columns = ['Strongly Disagree','Disagree','Neutral','Agree','Strongly Agree']\n",
    "create_stacked_bar(pivot_df, 1.4, figsize=(11,6), savefile=True)\n",
    "pivot_df"
   ]
  },
  {
   "cell_type": "markdown",
   "metadata": {},
   "source": [
    "## Cellular Data Collection"
   ]
  },
  {
   "cell_type": "markdown",
   "metadata": {},
   "source": [
    "- A large majority of Israelis think that the data in involontary cellular data collection will not be deleted\n",
    "- More than half the population will understand if people would leave thier phones home to avoid being tracked\n",
    "- People think that the cellular tracking will help prevent covid in someone more proportions than Hamagen\n",
    "- Privacy concerns similar to Hamagen"
   ]
  },
  {
   "cell_type": "code",
   "execution_count": 173,
   "metadata": {},
   "outputs": [
    {
     "data": {
      "image/png": "[encoded data removed]",
      "text/plain": [
       "<Figure size 1152x720 with 1 Axes>"
      ]
     },
     "metadata": {
      "needs_background": "light"
     },
     "output_type": "display_data"
    }
   ],
   "source": [
    "cols=['cellular_can_collect', 'cellular_privacy_concern', \n",
    "      'cellular_reduce_my_risk', 'cellular_help_prevent', 'cellular_accept_leave_phone_home', 'cellular_trust_delete',] \n",
    "\n",
    "small=sur[cols]\n",
    "df1 = small.apply(pd.Series.value_counts)\n",
    "\n",
    "likert_colors = ['firebrick','lightcoral','ivory','cornflowerblue', 'darkblue']\n",
    "pivot_df = df1.transpose() \n",
    "pivot_df.rename(index={'cellular_trust_delete':'I trust that all the data will be deleted\\nafter the end of the coronavirus crisis'},inplace=True)\n",
    "pivot_df.rename(index={'cellular_accept_leave_phone_home':'I can understand people who leave\\ntheir phone at home to avoid cellular tracking'},inplace=True)\n",
    "pivot_df.rename(index={'cellular_help_prevent':'The technology will help reduce the \\nspread of the novel coronavirus'},inplace=True)\n",
    "pivot_df.rename(index={'cellular_reduce_my_risk':'The technology will reduce the chances\\nthat I will get infected by the coronavirus'},inplace=True)\n",
    "pivot_df.rename(index={'cellular_privacy_concern':'I am worried of the information the\\ntechnology can collect on me'},inplace=True)\n",
    "pivot_df.rename(index={'cellular_can_collect':'The technology can collect sensitive\\ninformation'},inplace=True)\n",
    "\n",
    "\n",
    "pivot_df.columns = ['Strongly Disagree','Disagree','Neutral',\n",
    "                     'Agree','Strongly Agree']\n",
    "create_stacked_bar(pivot_df, 1.4, savefile=True)"
   ]
  },
  {
   "cell_type": "markdown",
   "metadata": {},
   "source": [
    "## Twitter publication"
   ]
  },
  {
   "cell_type": "code",
   "execution_count": 174,
   "metadata": {},
   "outputs": [
    {
     "data": {
      "image/png": "[encoded data removed]",
      "text/plain": [
       "<Figure size 720x432 with 1 Axes>"
      ]
     },
     "metadata": {
      "needs_background": "light"
     },
     "output_type": "display_data"
    }
   ],
   "source": [
    "cols=['cellular_can_collect', 'cellular_privacy_concern', \n",
    "     'cellular_accept_leave_phone_home', 'cellular_trust_delete',] \n",
    "\n",
    "small=sur[cols]\n",
    "df1 = small.apply(pd.Series.value_counts)\n",
    "\n",
    "likert_colors = ['firebrick','lightcoral','ivory','cornflowerblue', 'darkblue']\n",
    "pivot_df = df1.transpose() \n",
    "pivot_df.rename(index={'cellular_trust_delete':'I trust that all the data will be deleted\\nafter the end of the coronavirus crisis'},inplace=True)\n",
    "pivot_df.rename(index={'cellular_accept_leave_phone_home':'I can understand people who leave\\ntheir phone at home to avoid cellular tracking'},inplace=True)\n",
    "pivot_df.rename(index={'cellular_privacy_concern':'I am worried of the information cellular\\ntracing can collect about me'},inplace=True)\n",
    "pivot_df.rename(index={'cellular_can_collect':'Cellular tracing can collect sensitive\\ninformation'},inplace=True)\n",
    "\n",
    "pivot_df.columns = ['Strongly Disagree','Disagree','Neutral',\n",
    "                     'Agree','Strongly Agree']\n",
    "create_stacked_bar(pivot_df, 1.4, figsize=(10,6))"
   ]
  },
  {
   "cell_type": "markdown",
   "metadata": {},
   "source": [
    "# Visualizing binary variables"
   ]
  },
  {
   "cell_type": "markdown",
   "metadata": {},
   "source": [
    "## Binary variables\n",
    "- 32 work in healthcare \n",
    "- About 110 of the 520 are in special risk\n",
    "- About 147 know a person that was tested positive for Covid-19"
   ]
  },
  {
   "cell_type": "code",
   "execution_count": 12,
   "metadata": {},
   "outputs": [
    {
     "data": {
      "image/png": "[encoded data removed]",
      "text/plain": [
       "<Figure size 864x576 with 1 Axes>"
      ]
     },
     "metadata": {
      "needs_background": "light"
     },
     "output_type": "display_data"
    }
   ],
   "source": [
    "cols=['was_in_quarentine', 'corona_positive',  'corona_know_positive', 'special_risk', 'corona_family_risk', \n",
    "      'work_in_healthcare'] \n",
    "small=sur[cols]\n",
    "df1 = small.apply(pd.Series.value_counts)\n",
    "pivot_df = df1.transpose() \n",
    "\n",
    "pivot_df.rename(index={'work_in_healthcare':'Do you work in a healthcare clinic or a hospital'},inplace=True)\n",
    "pivot_df.rename(index={'special_risk':'Are you in a special risk of the coronavirus'},inplace=True)\n",
    "pivot_df.rename(index={'corona_family_risk':'Do you have relatives who are in special risk\\nof the virus'},inplace=True)\n",
    "pivot_df.rename(index={'corona_know_positive':'Do you know a person that was tested\\npositive for the coronavirus?'},inplace=True)\n",
    "pivot_df.rename(index={'corona_positive':'Were you ever tested positive for the coronavirus?'},inplace=True)\n",
    "pivot_df.rename(index={'was_in_quarentine':'Are you or were you in quarentine?'},inplace=True)\n",
    "\n",
    "\n",
    "ax = pivot_df.plot.barh(stacked=True, figsize=(12,8))\n",
    "\n",
    "\n",
    "for lbl in ax.patches:\n",
    "    ax.annotate(int(lbl.get_width()), (lbl.get_x(), lbl.get_y()+.5), horizontalalignment='left', verticalalignment='bottom', fontfamily='sans-serif', fontsize=10, color='#3e6487')\n",
    "\n",
    "plt.gcf().tight_layout()\n",
    "plt.savefig('output.png', format='png')"
   ]
  },
  {
   "cell_type": "code",
   "execution_count": 13,
   "metadata": {},
   "outputs": [
    {
     "data": {
      "text/html": [
       "<div>\n",
       "<style scoped>\n",
       "    .dataframe tbody tr th:only-of-type {\n",
       "        vertical-align: middle;\n",
       "    }\n",
       "\n",
       "    .dataframe tbody tr th {\n",
       "        vertical-align: top;\n",
       "    }\n",
       "\n",
       "    .dataframe thead th {\n",
       "        text-align: right;\n",
       "    }\n",
       "</style>\n",
       "<table border=\"1\" class=\"dataframe\">\n",
       "  <thead>\n",
       "    <tr style=\"text-align: right;\">\n",
       "      <th></th>\n",
       "      <th>No</th>\n",
       "      <th>Yes</th>\n",
       "    </tr>\n",
       "  </thead>\n",
       "  <tbody>\n",
       "    <tr>\n",
       "      <th>Are you or were you in quarentine?</th>\n",
       "      <td>475</td>\n",
       "      <td>44</td>\n",
       "    </tr>\n",
       "    <tr>\n",
       "      <th>Were you ever tested positive for the coronavirus?</th>\n",
       "      <td>509</td>\n",
       "      <td>10</td>\n",
       "    </tr>\n",
       "    <tr>\n",
       "      <th>Do you know a person that was tested\\npositive for the coronavirus?</th>\n",
       "      <td>373</td>\n",
       "      <td>146</td>\n",
       "    </tr>\n",
       "    <tr>\n",
       "      <th>Are you in a special risk of the coronavirus</th>\n",
       "      <td>409</td>\n",
       "      <td>110</td>\n",
       "    </tr>\n",
       "    <tr>\n",
       "      <th>Do you have relatives who are in special risk\\nof the virus</th>\n",
       "      <td>84</td>\n",
       "      <td>435</td>\n",
       "    </tr>\n",
       "    <tr>\n",
       "      <th>Do you work in a healthcare clinic or a hospital</th>\n",
       "      <td>487</td>\n",
       "      <td>32</td>\n",
       "    </tr>\n",
       "  </tbody>\n",
       "</table>\n",
       "</div>"
      ],
      "text/plain": [
       "                                                     No  Yes\n",
       "Are you or were you in quarentine?                  475   44\n",
       "Were you ever tested positive for the coronavirus?  509   10\n",
       "Do you know a person that was tested\\npositive ...  373  146\n",
       "Are you in a special risk of the coronavirus        409  110\n",
       "Do you have relatives who are in special risk\\n...   84  435\n",
       "Do you work in a healthcare clinic or a hospital    487   32"
      ]
     },
     "execution_count": 13,
     "metadata": {},
     "output_type": "execute_result"
    }
   ],
   "source": [
    "pivot_df"
   ]
  },
  {
   "cell_type": "markdown",
   "metadata": {},
   "source": [
    "### Gender"
   ]
  },
  {
   "cell_type": "code",
   "execution_count": 176,
   "metadata": {},
   "outputs": [
    {
     "data": {
      "text/html": [
       "<div>\n",
       "<style scoped>\n",
       "    .dataframe tbody tr th:only-of-type {\n",
       "        vertical-align: middle;\n",
       "    }\n",
       "\n",
       "    .dataframe tbody tr th {\n",
       "        vertical-align: top;\n",
       "    }\n",
       "\n",
       "    .dataframe thead th {\n",
       "        text-align: right;\n",
       "    }\n",
       "</style>\n",
       "<table border=\"1\" class=\"dataframe\">\n",
       "  <thead>\n",
       "    <tr style=\"text-align: right;\">\n",
       "      <th></th>\n",
       "      <th>female</th>\n",
       "      <th>male</th>\n",
       "      <th>other</th>\n",
       "    </tr>\n",
       "  </thead>\n",
       "  <tbody>\n",
       "    <tr>\n",
       "      <th>gender</th>\n",
       "      <td>276</td>\n",
       "      <td>239</td>\n",
       "      <td>4</td>\n",
       "    </tr>\n",
       "  </tbody>\n",
       "</table>\n",
       "</div>"
      ],
      "text/plain": [
       "        female  male  other\n",
       "gender     276   239      4"
      ]
     },
     "execution_count": 176,
     "metadata": {},
     "output_type": "execute_result"
    },
    {
     "data": {
      "image/png": "[encoded data removed]",
      "text/plain": [
       "<Figure size 576x720 with 1 Axes>"
      ]
     },
     "metadata": {
      "needs_background": "light"
     },
     "output_type": "display_data"
    }
   ],
   "source": [
    "cols=['gender'] \n",
    "small=sur[cols]\n",
    "df1 = small.apply(pd.Series.value_counts)\n",
    "df1\n",
    "pivot_df = df1.transpose() \n",
    "pivot_df\n",
    "ax = df1.plot.barh()\n",
    "\n",
    "for lbl in ax.patches:\n",
    "    ax.annotate(int(lbl.get_width()), (lbl.get_x(), lbl.get_y()+.5), verticalalignment='bottom', fontsize=10, color='#3e6487')\n",
    "\n",
    "pivot_df"
   ]
  },
  {
   "cell_type": "markdown",
   "metadata": {},
   "source": [
    "### Age"
   ]
  },
  {
   "cell_type": "code",
   "execution_count": 177,
   "metadata": {},
   "outputs": [
    {
     "data": {
      "image/png": "[encoded data removed]",
      "text/plain": [
       "<Figure size 576x720 with 1 Axes>"
      ]
     },
     "metadata": {
      "needs_background": "light"
     },
     "output_type": "display_data"
    }
   ],
   "source": [
    "cols=['age_group'] \n",
    "small=sur[cols]\n",
    "df1 = small.apply(pd.Series.value_counts)\n",
    "df1\n",
    "pivot_df = df1.transpose() \n",
    "pivot_df\n",
    "ax = df1.plot.barh()\n",
    "\n",
    "for lbl in ax.patches:\n",
    "    ax.annotate(int(lbl.get_width()), (lbl.get_x(), lbl.get_y()+.5), verticalalignment='bottom', fontsize=10, color='#3e6487')\n"
   ]
  },
  {
   "cell_type": "code",
   "execution_count": 178,
   "metadata": {},
   "outputs": [
    {
     "data": {
      "text/plain": [
       "2    158\n",
       "3    139\n",
       "4     81\n",
       "5     76\n",
       "6     52\n",
       "1     10\n",
       "7      3\n",
       "Name: age_group, dtype: int64"
      ]
     },
     "execution_count": 178,
     "metadata": {},
     "output_type": "execute_result"
    }
   ],
   "source": [
    "sur.age_group.value_counts()"
   ]
  },
  {
   "cell_type": "markdown",
   "metadata": {},
   "source": [
    "### Religious Identification"
   ]
  },
  {
   "cell_type": "code",
   "execution_count": 179,
   "metadata": {},
   "outputs": [
    {
     "name": "stdout",
     "output_type": "stream",
     "text": [
      "          Jewish  Muslim  Druze  Christian\n",
      "religion     426      55     22         16\n"
     ]
    },
    {
     "data": {
      "text/html": [
       "<div>\n",
       "<style scoped>\n",
       "    .dataframe tbody tr th:only-of-type {\n",
       "        vertical-align: middle;\n",
       "    }\n",
       "\n",
       "    .dataframe tbody tr th {\n",
       "        vertical-align: top;\n",
       "    }\n",
       "\n",
       "    .dataframe thead th {\n",
       "        text-align: right;\n",
       "    }\n",
       "</style>\n",
       "<table border=\"1\" class=\"dataframe\">\n",
       "  <thead>\n",
       "    <tr style=\"text-align: right;\">\n",
       "      <th></th>\n",
       "      <th>Jewish</th>\n",
       "      <th>Muslim</th>\n",
       "      <th>Druze</th>\n",
       "      <th>Christian</th>\n",
       "    </tr>\n",
       "  </thead>\n",
       "  <tbody>\n",
       "    <tr>\n",
       "      <th>religion</th>\n",
       "      <td>426</td>\n",
       "      <td>55</td>\n",
       "      <td>22</td>\n",
       "      <td>16</td>\n",
       "    </tr>\n",
       "  </tbody>\n",
       "</table>\n",
       "</div>"
      ],
      "text/plain": [
       "          Jewish  Muslim  Druze  Christian\n",
       "religion     426      55     22         16"
      ]
     },
     "execution_count": 179,
     "metadata": {},
     "output_type": "execute_result"
    },
    {
     "data": {
      "image/png": "[encoded data removed]",
      "text/plain": [
       "<Figure size 576x720 with 1 Axes>"
      ]
     },
     "metadata": {
      "needs_background": "light"
     },
     "output_type": "display_data"
    }
   ],
   "source": [
    "cols=['religion'] \n",
    "small=sur[cols]\n",
    "df1 = small.apply(pd.Series.value_counts)\n",
    "df1\n",
    "pivot_df = df1.transpose() \n",
    "print(pivot_df)\n",
    "\n",
    "ax = df1.plot.barh()\n",
    "\n",
    "for lbl in ax.patches:\n",
    "    ax.annotate(int(lbl.get_width()), (lbl.get_x(), lbl.get_y()+.5), verticalalignment='bottom', fontsize=10, color='#3e6487')\n",
    "\n",
    "pivot_df "
   ]
  },
  {
   "cell_type": "markdown",
   "metadata": {},
   "source": [
    "### Religious Level"
   ]
  },
  {
   "cell_type": "code",
   "execution_count": 180,
   "metadata": {},
   "outputs": [
    {
     "name": "stdout",
     "output_type": "stream",
     "text": [
      "                 Secular  Traditional  Other  Religious  Orthodox\n",
      "religion_degree      190          139     93         57        40\n"
     ]
    },
    {
     "data": {
      "image/png": "[encoded data removed]",
      "text/plain": [
       "<Figure size 576x720 with 1 Axes>"
      ]
     },
     "metadata": {
      "needs_background": "light"
     },
     "output_type": "display_data"
    }
   ],
   "source": [
    "cols=['religion_degree'] \n",
    "small=sur[cols]\n",
    "df1 = small.apply(pd.Series.value_counts)\n",
    "df1\n",
    "pivot_df = df1.transpose() \n",
    "print(pivot_df)\n",
    "\n",
    "ax = df1.plot.barh()\n",
    "\n",
    "for lbl in ax.patches:\n",
    "    ax.annotate(int(lbl.get_width()), (lbl.get_x(), lbl.get_y()+.5), verticalalignment='bottom', fontsize=10, color='#3e6487')\n"
   ]
  },
  {
   "cell_type": "markdown",
   "metadata": {},
   "source": [
    "### Education"
   ]
  },
  {
   "cell_type": "code",
   "execution_count": 181,
   "metadata": {},
   "outputs": [
    {
     "data": {
      "text/html": [
       "<div>\n",
       "<style scoped>\n",
       "    .dataframe tbody tr th:only-of-type {\n",
       "        vertical-align: middle;\n",
       "    }\n",
       "\n",
       "    .dataframe tbody tr th {\n",
       "        vertical-align: top;\n",
       "    }\n",
       "\n",
       "    .dataframe thead th {\n",
       "        text-align: right;\n",
       "    }\n",
       "</style>\n",
       "<table border=\"1\" class=\"dataframe\">\n",
       "  <thead>\n",
       "    <tr style=\"text-align: right;\">\n",
       "      <th></th>\n",
       "      <th>Bachelor</th>\n",
       "      <th>Non Academic</th>\n",
       "      <th>Highschool</th>\n",
       "      <th>Graduate</th>\n",
       "      <th>Elementary</th>\n",
       "    </tr>\n",
       "  </thead>\n",
       "  <tbody>\n",
       "    <tr>\n",
       "      <th>education</th>\n",
       "      <td>184</td>\n",
       "      <td>139</td>\n",
       "      <td>112</td>\n",
       "      <td>81</td>\n",
       "      <td>3</td>\n",
       "    </tr>\n",
       "  </tbody>\n",
       "</table>\n",
       "</div>"
      ],
      "text/plain": [
       "           Bachelor  Non Academic  Highschool  Graduate  Elementary\n",
       "education       184           139         112        81           3"
      ]
     },
     "execution_count": 181,
     "metadata": {},
     "output_type": "execute_result"
    },
    {
     "data": {
      "image/png": "[encoded data removed]",
      "text/plain": [
       "<Figure size 576x720 with 1 Axes>"
      ]
     },
     "metadata": {
      "needs_background": "light"
     },
     "output_type": "display_data"
    }
   ],
   "source": [
    "cols=['education'] \n",
    "small=sur[cols]\n",
    "df1 = small.apply(pd.Series.value_counts)\n",
    "df1\n",
    "pivot_df = df1.transpose() \n",
    "ax = df1.plot.barh()\n",
    "\n",
    "for lbl in ax.patches:\n",
    "    ax.annotate(int(lbl.get_width()), (lbl.get_x(), lbl.get_y()+.5), verticalalignment='bottom', fontsize=10, color='#3e6487')\n",
    "\n",
    "pivot_df"
   ]
  },
  {
   "cell_type": "markdown",
   "metadata": {},
   "source": [
    "### Socio-Economic"
   ]
  },
  {
   "cell_type": "code",
   "execution_count": 182,
   "metadata": {},
   "outputs": [
    {
     "data": {
      "text/html": [
       "<div>\n",
       "<style scoped>\n",
       "    .dataframe tbody tr th:only-of-type {\n",
       "        vertical-align: middle;\n",
       "    }\n",
       "\n",
       "    .dataframe tbody tr th {\n",
       "        vertical-align: top;\n",
       "    }\n",
       "\n",
       "    .dataframe thead th {\n",
       "        text-align: right;\n",
       "    }\n",
       "</style>\n",
       "<table border=\"1\" class=\"dataframe\">\n",
       "  <thead>\n",
       "    <tr style=\"text-align: right;\">\n",
       "      <th></th>\n",
       "      <th>Below Average</th>\n",
       "      <th>Strongly Below Average</th>\n",
       "      <th>Average</th>\n",
       "      <th>Above Average</th>\n",
       "      <th>Strongly Above Average</th>\n",
       "    </tr>\n",
       "  </thead>\n",
       "  <tbody>\n",
       "    <tr>\n",
       "      <th>socio_economy</th>\n",
       "      <td>165</td>\n",
       "      <td>141</td>\n",
       "      <td>138</td>\n",
       "      <td>61</td>\n",
       "      <td>14</td>\n",
       "    </tr>\n",
       "  </tbody>\n",
       "</table>\n",
       "</div>"
      ],
      "text/plain": [
       "               Below Average  Strongly Below Average  Average  Above Average  \\\n",
       "socio_economy            165                     141      138             61   \n",
       "\n",
       "               Strongly Above Average  \n",
       "socio_economy                      14  "
      ]
     },
     "execution_count": 182,
     "metadata": {},
     "output_type": "execute_result"
    },
    {
     "data": {
      "image/png": "[encoded data removed]",
      "text/plain": [
       "<Figure size 576x720 with 1 Axes>"
      ]
     },
     "metadata": {
      "needs_background": "light"
     },
     "output_type": "display_data"
    }
   ],
   "source": [
    "cols=['socio_economy'] \n",
    "small=sur[cols]\n",
    "df1 = small.apply(pd.Series.value_counts)\n",
    "df1\n",
    "pivot_df = df1.transpose() \n",
    "\n",
    "ax = df1.plot.barh()\n",
    "\n",
    "for lbl in ax.patches:\n",
    "    ax.annotate(int(lbl.get_width()), (lbl.get_x(), lbl.get_y()+.5), verticalalignment='bottom', fontsize=10, color='#3e6487')\n",
    "\n",
    "pivot_df"
   ]
  },
  {
   "cell_type": "markdown",
   "metadata": {},
   "source": [
    "### Computer Literacy "
   ]
  },
  {
   "cell_type": "code",
   "execution_count": 183,
   "metadata": {},
   "outputs": [
    {
     "data": {
      "image/png": "[encoded data removed]",
      "text/plain": [
       "<Figure size 576x720 with 1 Axes>"
      ]
     },
     "metadata": {
      "needs_background": "light"
     },
     "output_type": "display_data"
    }
   ],
   "source": [
    "cols=['solve_computer_problems'] \n",
    "small=sur[cols]\n",
    "df1 = small.apply(pd.Series.value_counts)\n",
    "df1\n",
    "pivot_df = df1.transpose() \n",
    "pivot_df\n",
    "ax = df1.plot.barh()\n",
    "\n",
    "for lbl in ax.patches:\n",
    "    ax.annotate(int(lbl.get_width()), (lbl.get_x(), lbl.get_y()+.5), verticalalignment='bottom', fontsize=10, color='#3e6487')\n"
   ]
  },
  {
   "cell_type": "code",
   "execution_count": 184,
   "metadata": {},
   "outputs": [
    {
     "data": {
      "text/plain": [
       "<AxesSubplot:>"
      ]
     },
     "execution_count": 184,
     "metadata": {},
     "output_type": "execute_result"
    },
    {
     "data": {
      "image/png": "[encoded data removed]",
      "text/plain": [
       "<Figure size 576x720 with 1 Axes>"
      ]
     },
     "metadata": {
      "needs_background": "light"
     },
     "output_type": "display_data"
    }
   ],
   "source": [
    "sur['tech'].hist()\n",
    "\n"
   ]
  },
  {
   "cell_type": "markdown",
   "metadata": {},
   "source": [
    "# Analyzing Installations\n",
    "\n",
    "Resources: https://towardsdatascience.com/building-a-logistic-regression-in-python-step-by-step-becd4d56c9c8"
   ]
  },
  {
   "cell_type": "markdown",
   "metadata": {},
   "source": [
    "## Creating Dummy Variables"
   ]
  },
  {
   "cell_type": "code",
   "execution_count": 253,
   "metadata": {},
   "outputs": [],
   "source": [
    "sur_no_removed = sur[sur['installed'] < 2].copy()\n",
    "\n",
    "cat_vars=['gender','language', 'special_risk', 'work_in_healthcare', 'corona_family_risk', 'was_in_quarentine', 'corona_know_positive', \n",
    "          'corona_positive', 'age_group', 'education', 'religion', 'religion_degree', 'socio_economy']\n",
    "for var in cat_vars:\n",
    "    dummy = 'var'+'_'+var\n",
    "    dummy = pd.get_dummies(sur[var], prefix=var)\n",
    "    sur_no_removed = sur_no_removed.merge(dummy, left_index=True, right_index=True)\n",
    "\n",
    "#sur_no_removed.info(verbose=True)\n",
    "\n"
   ]
  },
  {
   "cell_type": "code",
   "execution_count": 254,
   "metadata": {},
   "outputs": [
    {
     "data": {
      "text/plain": [
       "0    308\n",
       "1    166\n",
       "Name: hamagen_install_numbers, dtype: int64"
      ]
     },
     "execution_count": 254,
     "metadata": {},
     "output_type": "execute_result"
    }
   ],
   "source": [
    "# Adding intercept \n",
    "sur_no_removed['intercept'] = 1.0\n",
    "\n",
    "#Filtering uninstallations \n",
    "#sur_no_removed['hamagen_install_numbers'] = sur_no_removed['hamagen_install_numbers'].map({1 : 1, 0 : 0, 2 : 0})\n",
    "sur_no_removed['hamagen_install_numbers'].value_counts()\n",
    "\n"
   ]
  },
  {
   "cell_type": "code",
   "execution_count": 255,
   "metadata": {},
   "outputs": [
    {
     "data": {
      "text/html": [
       "<div>\n",
       "<style scoped>\n",
       "    .dataframe tbody tr th:only-of-type {\n",
       "        vertical-align: middle;\n",
       "    }\n",
       "\n",
       "    .dataframe tbody tr th {\n",
       "        vertical-align: top;\n",
       "    }\n",
       "\n",
       "    .dataframe thead th {\n",
       "        text-align: right;\n",
       "    }\n",
       "</style>\n",
       "<table border=\"1\" class=\"dataframe\">\n",
       "  <thead>\n",
       "    <tr style=\"text-align: right;\">\n",
       "      <th></th>\n",
       "      <th>Time Started</th>\n",
       "      <th>Date Submitted</th>\n",
       "      <th>Status</th>\n",
       "      <th>age</th>\n",
       "      <th>corona_threat_population</th>\n",
       "      <th>corona_threat_me</th>\n",
       "      <th>corona_worry_me</th>\n",
       "      <th>corona_worry_others</th>\n",
       "      <th>trust_leaders</th>\n",
       "      <th>follow_instructions</th>\n",
       "      <th>was_in_quarentine</th>\n",
       "      <th>corona_financial_hurt</th>\n",
       "      <th>corona_positive</th>\n",
       "      <th>corona_know_positive</th>\n",
       "      <th>corona_family_risk</th>\n",
       "      <th>special_risk</th>\n",
       "      <th>work_in_healthcare</th>\n",
       "      <th>hamagen_install</th>\n",
       "      <th>hamagen_recommend</th>\n",
       "      <th>hamagen_help_no_infect</th>\n",
       "      <th>hamagen_reduce_my_risk</th>\n",
       "      <th>hamagen_privacy_concern</th>\n",
       "      <th>hamagen_can_collect_sensitive</th>\n",
       "      <th>hamagen_wrong_location</th>\n",
       "      <th>hamagen_errors</th>\n",
       "      <th>hamagen_battery</th>\n",
       "      <th>hamagen_public_areas</th>\n",
       "      <th>cellular_trust_delete</th>\n",
       "      <th>cellular_accept_leave_phone_home</th>\n",
       "      <th>cellular_help_prevent</th>\n",
       "      <th>cellular_reduce_my_risk</th>\n",
       "      <th>cellular_privacy_concern</th>\n",
       "      <th>cellular_can_collect</th>\n",
       "      <th>solve_computer_problems</th>\n",
       "      <th>know_pdf</th>\n",
       "      <th>know_spyware</th>\n",
       "      <th>know_wiki</th>\n",
       "      <th>know_cache</th>\n",
       "      <th>know_phishing</th>\n",
       "      <th>gender</th>\n",
       "      <th>education</th>\n",
       "      <th>socio_economy</th>\n",
       "      <th>religion</th>\n",
       "      <th>religion_degree</th>\n",
       "      <th>language</th>\n",
       "      <th>hamagen_install_numbers</th>\n",
       "      <th>installed</th>\n",
       "      <th>gender_ord</th>\n",
       "      <th>socio_economy_level</th>\n",
       "      <th>education_level</th>\n",
       "      <th>...</th>\n",
       "      <th>hamagen_limited_utility</th>\n",
       "      <th>cellular_attitude</th>\n",
       "      <th>hamagen_attitude</th>\n",
       "      <th>covid_concern</th>\n",
       "      <th>hamagen_utility</th>\n",
       "      <th>gender_female</th>\n",
       "      <th>gender_male</th>\n",
       "      <th>gender_other</th>\n",
       "      <th>language_arabic</th>\n",
       "      <th>language_hebrew</th>\n",
       "      <th>language_other</th>\n",
       "      <th>special_risk_No</th>\n",
       "      <th>special_risk_Yes</th>\n",
       "      <th>work_in_healthcare_No</th>\n",
       "      <th>work_in_healthcare_Yes</th>\n",
       "      <th>corona_family_risk_No</th>\n",
       "      <th>corona_family_risk_Yes</th>\n",
       "      <th>was_in_quarentine_No</th>\n",
       "      <th>was_in_quarentine_Yes</th>\n",
       "      <th>corona_know_positive_No</th>\n",
       "      <th>corona_know_positive_Yes</th>\n",
       "      <th>corona_positive_No</th>\n",
       "      <th>corona_positive_Yes</th>\n",
       "      <th>age_group_1</th>\n",
       "      <th>age_group_2</th>\n",
       "      <th>age_group_3</th>\n",
       "      <th>age_group_4</th>\n",
       "      <th>age_group_5</th>\n",
       "      <th>age_group_6</th>\n",
       "      <th>age_group_7</th>\n",
       "      <th>education_Bachelor</th>\n",
       "      <th>education_Elementary</th>\n",
       "      <th>education_Graduate</th>\n",
       "      <th>education_Highschool</th>\n",
       "      <th>education_Non Academic</th>\n",
       "      <th>religion_Christian</th>\n",
       "      <th>religion_Druze</th>\n",
       "      <th>religion_Jewish</th>\n",
       "      <th>religion_Muslim</th>\n",
       "      <th>religion_degree_Orthodox</th>\n",
       "      <th>religion_degree_Other</th>\n",
       "      <th>religion_degree_Religious</th>\n",
       "      <th>religion_degree_Secular</th>\n",
       "      <th>religion_degree_Traditional</th>\n",
       "      <th>socio_economy_Above Average</th>\n",
       "      <th>socio_economy_Average</th>\n",
       "      <th>socio_economy_Below Average</th>\n",
       "      <th>socio_economy_Strongly Above Average</th>\n",
       "      <th>socio_economy_Strongly Below Average</th>\n",
       "      <th>intercept</th>\n",
       "    </tr>\n",
       "    <tr>\n",
       "      <th>Response ID</th>\n",
       "      <th></th>\n",
       "      <th></th>\n",
       "      <th></th>\n",
       "      <th></th>\n",
       "      <th></th>\n",
       "      <th></th>\n",
       "      <th></th>\n",
       "      <th></th>\n",
       "      <th></th>\n",
       "      <th></th>\n",
       "      <th></th>\n",
       "      <th></th>\n",
       "      <th></th>\n",
       "      <th></th>\n",
       "      <th></th>\n",
       "      <th></th>\n",
       "      <th></th>\n",
       "      <th></th>\n",
       "      <th></th>\n",
       "      <th></th>\n",
       "      <th></th>\n",
       "      <th></th>\n",
       "      <th></th>\n",
       "      <th></th>\n",
       "      <th></th>\n",
       "      <th></th>\n",
       "      <th></th>\n",
       "      <th></th>\n",
       "      <th></th>\n",
       "      <th></th>\n",
       "      <th></th>\n",
       "      <th></th>\n",
       "      <th></th>\n",
       "      <th></th>\n",
       "      <th></th>\n",
       "      <th></th>\n",
       "      <th></th>\n",
       "      <th></th>\n",
       "      <th></th>\n",
       "      <th></th>\n",
       "      <th></th>\n",
       "      <th></th>\n",
       "      <th></th>\n",
       "      <th></th>\n",
       "      <th></th>\n",
       "      <th></th>\n",
       "      <th></th>\n",
       "      <th></th>\n",
       "      <th></th>\n",
       "      <th></th>\n",
       "      <th></th>\n",
       "      <th></th>\n",
       "      <th></th>\n",
       "      <th></th>\n",
       "      <th></th>\n",
       "      <th></th>\n",
       "      <th></th>\n",
       "      <th></th>\n",
       "      <th></th>\n",
       "      <th></th>\n",
       "      <th></th>\n",
       "      <th></th>\n",
       "      <th></th>\n",
       "      <th></th>\n",
       "      <th></th>\n",
       "      <th></th>\n",
       "      <th></th>\n",
       "      <th></th>\n",
       "      <th></th>\n",
       "      <th></th>\n",
       "      <th></th>\n",
       "      <th></th>\n",
       "      <th></th>\n",
       "      <th></th>\n",
       "      <th></th>\n",
       "      <th></th>\n",
       "      <th></th>\n",
       "      <th></th>\n",
       "      <th></th>\n",
       "      <th></th>\n",
       "      <th></th>\n",
       "      <th></th>\n",
       "      <th></th>\n",
       "      <th></th>\n",
       "      <th></th>\n",
       "      <th></th>\n",
       "      <th></th>\n",
       "      <th></th>\n",
       "      <th></th>\n",
       "      <th></th>\n",
       "      <th></th>\n",
       "      <th></th>\n",
       "      <th></th>\n",
       "      <th></th>\n",
       "      <th></th>\n",
       "      <th></th>\n",
       "      <th></th>\n",
       "      <th></th>\n",
       "      <th></th>\n",
       "      <th></th>\n",
       "      <th></th>\n",
       "    </tr>\n",
       "  </thead>\n",
       "  <tbody>\n",
       "    <tr>\n",
       "      <th>379</th>\n",
       "      <td>05/05/2020 16:23</td>\n",
       "      <td>05/05/2020 16:26</td>\n",
       "      <td>Complete</td>\n",
       "      <td>21.0</td>\n",
       "      <td>3</td>\n",
       "      <td>2</td>\n",
       "      <td>4</td>\n",
       "      <td>4</td>\n",
       "      <td>3</td>\n",
       "      <td>5</td>\n",
       "      <td>No</td>\n",
       "      <td>4</td>\n",
       "      <td>No</td>\n",
       "      <td>No</td>\n",
       "      <td>Yes</td>\n",
       "      <td>No</td>\n",
       "      <td>No</td>\n",
       "      <td>No</td>\n",
       "      <td>2</td>\n",
       "      <td>3</td>\n",
       "      <td>2</td>\n",
       "      <td>4</td>\n",
       "      <td>3</td>\n",
       "      <td>NaN</td>\n",
       "      <td>NaN</td>\n",
       "      <td>NaN</td>\n",
       "      <td>2</td>\n",
       "      <td>3</td>\n",
       "      <td>4</td>\n",
       "      <td>3</td>\n",
       "      <td>2</td>\n",
       "      <td>4</td>\n",
       "      <td>3</td>\n",
       "      <td>5</td>\n",
       "      <td>5</td>\n",
       "      <td>4</td>\n",
       "      <td>5</td>\n",
       "      <td>5</td>\n",
       "      <td>5</td>\n",
       "      <td>male</td>\n",
       "      <td>Highschool</td>\n",
       "      <td>Below Average</td>\n",
       "      <td>Jewish</td>\n",
       "      <td>Secular</td>\n",
       "      <td>hebrew</td>\n",
       "      <td>0</td>\n",
       "      <td>0</td>\n",
       "      <td>1</td>\n",
       "      <td>1</td>\n",
       "      <td>2</td>\n",
       "      <td>...</td>\n",
       "      <td>2.5</td>\n",
       "      <td>2.666667</td>\n",
       "      <td>2.0</td>\n",
       "      <td>3.000000</td>\n",
       "      <td>2.5</td>\n",
       "      <td>0</td>\n",
       "      <td>1</td>\n",
       "      <td>0</td>\n",
       "      <td>0</td>\n",
       "      <td>1</td>\n",
       "      <td>0</td>\n",
       "      <td>1</td>\n",
       "      <td>0</td>\n",
       "      <td>1</td>\n",
       "      <td>0</td>\n",
       "      <td>0</td>\n",
       "      <td>1</td>\n",
       "      <td>1</td>\n",
       "      <td>0</td>\n",
       "      <td>1</td>\n",
       "      <td>0</td>\n",
       "      <td>1</td>\n",
       "      <td>0</td>\n",
       "      <td>0</td>\n",
       "      <td>1</td>\n",
       "      <td>0</td>\n",
       "      <td>0</td>\n",
       "      <td>0</td>\n",
       "      <td>0</td>\n",
       "      <td>0</td>\n",
       "      <td>0</td>\n",
       "      <td>0</td>\n",
       "      <td>0</td>\n",
       "      <td>1</td>\n",
       "      <td>0</td>\n",
       "      <td>0</td>\n",
       "      <td>0</td>\n",
       "      <td>1</td>\n",
       "      <td>0</td>\n",
       "      <td>0</td>\n",
       "      <td>0</td>\n",
       "      <td>0</td>\n",
       "      <td>1</td>\n",
       "      <td>0</td>\n",
       "      <td>0</td>\n",
       "      <td>0</td>\n",
       "      <td>1</td>\n",
       "      <td>0</td>\n",
       "      <td>0</td>\n",
       "      <td>1.0</td>\n",
       "    </tr>\n",
       "    <tr>\n",
       "      <th>61</th>\n",
       "      <td>04/05/2020 19:23</td>\n",
       "      <td>04/05/2020 19:29</td>\n",
       "      <td>Complete</td>\n",
       "      <td>34.0</td>\n",
       "      <td>4</td>\n",
       "      <td>3</td>\n",
       "      <td>5</td>\n",
       "      <td>5</td>\n",
       "      <td>4</td>\n",
       "      <td>5</td>\n",
       "      <td>No</td>\n",
       "      <td>2</td>\n",
       "      <td>No</td>\n",
       "      <td>No</td>\n",
       "      <td>Yes</td>\n",
       "      <td>No</td>\n",
       "      <td>No</td>\n",
       "      <td>No</td>\n",
       "      <td>2</td>\n",
       "      <td>4</td>\n",
       "      <td>5</td>\n",
       "      <td>4</td>\n",
       "      <td>4</td>\n",
       "      <td>NaN</td>\n",
       "      <td>NaN</td>\n",
       "      <td>NaN</td>\n",
       "      <td>4</td>\n",
       "      <td>3</td>\n",
       "      <td>4</td>\n",
       "      <td>4</td>\n",
       "      <td>4</td>\n",
       "      <td>4</td>\n",
       "      <td>4</td>\n",
       "      <td>3</td>\n",
       "      <td>3</td>\n",
       "      <td>1</td>\n",
       "      <td>1</td>\n",
       "      <td>1</td>\n",
       "      <td>1</td>\n",
       "      <td>male</td>\n",
       "      <td>Highschool</td>\n",
       "      <td>Strongly Below Average</td>\n",
       "      <td>Muslim</td>\n",
       "      <td>Other</td>\n",
       "      <td>arabic</td>\n",
       "      <td>0</td>\n",
       "      <td>0</td>\n",
       "      <td>1</td>\n",
       "      <td>0</td>\n",
       "      <td>2</td>\n",
       "      <td>...</td>\n",
       "      <td>4.5</td>\n",
       "      <td>3.666667</td>\n",
       "      <td>3.0</td>\n",
       "      <td>4.000000</td>\n",
       "      <td>4.5</td>\n",
       "      <td>0</td>\n",
       "      <td>1</td>\n",
       "      <td>0</td>\n",
       "      <td>1</td>\n",
       "      <td>0</td>\n",
       "      <td>0</td>\n",
       "      <td>1</td>\n",
       "      <td>0</td>\n",
       "      <td>1</td>\n",
       "      <td>0</td>\n",
       "      <td>0</td>\n",
       "      <td>1</td>\n",
       "      <td>1</td>\n",
       "      <td>0</td>\n",
       "      <td>1</td>\n",
       "      <td>0</td>\n",
       "      <td>1</td>\n",
       "      <td>0</td>\n",
       "      <td>0</td>\n",
       "      <td>0</td>\n",
       "      <td>1</td>\n",
       "      <td>0</td>\n",
       "      <td>0</td>\n",
       "      <td>0</td>\n",
       "      <td>0</td>\n",
       "      <td>0</td>\n",
       "      <td>0</td>\n",
       "      <td>0</td>\n",
       "      <td>1</td>\n",
       "      <td>0</td>\n",
       "      <td>0</td>\n",
       "      <td>0</td>\n",
       "      <td>0</td>\n",
       "      <td>1</td>\n",
       "      <td>0</td>\n",
       "      <td>1</td>\n",
       "      <td>0</td>\n",
       "      <td>0</td>\n",
       "      <td>0</td>\n",
       "      <td>0</td>\n",
       "      <td>0</td>\n",
       "      <td>0</td>\n",
       "      <td>0</td>\n",
       "      <td>1</td>\n",
       "      <td>1.0</td>\n",
       "    </tr>\n",
       "    <tr>\n",
       "      <th>280</th>\n",
       "      <td>05/05/2020 15:22</td>\n",
       "      <td>05/05/2020 15:24</td>\n",
       "      <td>Complete</td>\n",
       "      <td>21.0</td>\n",
       "      <td>2</td>\n",
       "      <td>3</td>\n",
       "      <td>4</td>\n",
       "      <td>2</td>\n",
       "      <td>3</td>\n",
       "      <td>3</td>\n",
       "      <td>No</td>\n",
       "      <td>3</td>\n",
       "      <td>No</td>\n",
       "      <td>No</td>\n",
       "      <td>No</td>\n",
       "      <td>No</td>\n",
       "      <td>No</td>\n",
       "      <td>Yes</td>\n",
       "      <td>3</td>\n",
       "      <td>3</td>\n",
       "      <td>3</td>\n",
       "      <td>3</td>\n",
       "      <td>3</td>\n",
       "      <td>3.0</td>\n",
       "      <td>3.0</td>\n",
       "      <td>3.0</td>\n",
       "      <td>3</td>\n",
       "      <td>3</td>\n",
       "      <td>3</td>\n",
       "      <td>3</td>\n",
       "      <td>3</td>\n",
       "      <td>3</td>\n",
       "      <td>3</td>\n",
       "      <td>3</td>\n",
       "      <td>3</td>\n",
       "      <td>3</td>\n",
       "      <td>3</td>\n",
       "      <td>3</td>\n",
       "      <td>3</td>\n",
       "      <td>male</td>\n",
       "      <td>Bachelor</td>\n",
       "      <td>Below Average</td>\n",
       "      <td>Druze</td>\n",
       "      <td>Other</td>\n",
       "      <td>arabic</td>\n",
       "      <td>1</td>\n",
       "      <td>1</td>\n",
       "      <td>1</td>\n",
       "      <td>1</td>\n",
       "      <td>4</td>\n",
       "      <td>...</td>\n",
       "      <td>3.0</td>\n",
       "      <td>3.000000</td>\n",
       "      <td>3.0</td>\n",
       "      <td>3.000000</td>\n",
       "      <td>3.0</td>\n",
       "      <td>0</td>\n",
       "      <td>1</td>\n",
       "      <td>0</td>\n",
       "      <td>1</td>\n",
       "      <td>0</td>\n",
       "      <td>0</td>\n",
       "      <td>1</td>\n",
       "      <td>0</td>\n",
       "      <td>1</td>\n",
       "      <td>0</td>\n",
       "      <td>1</td>\n",
       "      <td>0</td>\n",
       "      <td>1</td>\n",
       "      <td>0</td>\n",
       "      <td>1</td>\n",
       "      <td>0</td>\n",
       "      <td>1</td>\n",
       "      <td>0</td>\n",
       "      <td>0</td>\n",
       "      <td>1</td>\n",
       "      <td>0</td>\n",
       "      <td>0</td>\n",
       "      <td>0</td>\n",
       "      <td>0</td>\n",
       "      <td>0</td>\n",
       "      <td>1</td>\n",
       "      <td>0</td>\n",
       "      <td>0</td>\n",
       "      <td>0</td>\n",
       "      <td>0</td>\n",
       "      <td>0</td>\n",
       "      <td>1</td>\n",
       "      <td>0</td>\n",
       "      <td>0</td>\n",
       "      <td>0</td>\n",
       "      <td>1</td>\n",
       "      <td>0</td>\n",
       "      <td>0</td>\n",
       "      <td>0</td>\n",
       "      <td>0</td>\n",
       "      <td>0</td>\n",
       "      <td>1</td>\n",
       "      <td>0</td>\n",
       "      <td>0</td>\n",
       "      <td>1.0</td>\n",
       "    </tr>\n",
       "    <tr>\n",
       "      <th>288</th>\n",
       "      <td>05/05/2020 15:24</td>\n",
       "      <td>05/05/2020 15:33</td>\n",
       "      <td>Complete</td>\n",
       "      <td>65.0</td>\n",
       "      <td>2</td>\n",
       "      <td>3</td>\n",
       "      <td>1</td>\n",
       "      <td>1</td>\n",
       "      <td>4</td>\n",
       "      <td>5</td>\n",
       "      <td>No</td>\n",
       "      <td>3</td>\n",
       "      <td>No</td>\n",
       "      <td>No</td>\n",
       "      <td>No</td>\n",
       "      <td>No</td>\n",
       "      <td>No</td>\n",
       "      <td>No</td>\n",
       "      <td>2</td>\n",
       "      <td>4</td>\n",
       "      <td>4</td>\n",
       "      <td>3</td>\n",
       "      <td>4</td>\n",
       "      <td>NaN</td>\n",
       "      <td>NaN</td>\n",
       "      <td>NaN</td>\n",
       "      <td>1</td>\n",
       "      <td>3</td>\n",
       "      <td>3</td>\n",
       "      <td>4</td>\n",
       "      <td>4</td>\n",
       "      <td>1</td>\n",
       "      <td>4</td>\n",
       "      <td>3</td>\n",
       "      <td>4</td>\n",
       "      <td>1</td>\n",
       "      <td>1</td>\n",
       "      <td>3</td>\n",
       "      <td>1</td>\n",
       "      <td>female</td>\n",
       "      <td>Highschool</td>\n",
       "      <td>Average</td>\n",
       "      <td>Jewish</td>\n",
       "      <td>Traditional</td>\n",
       "      <td>hebrew</td>\n",
       "      <td>0</td>\n",
       "      <td>0</td>\n",
       "      <td>0</td>\n",
       "      <td>3</td>\n",
       "      <td>2</td>\n",
       "      <td>...</td>\n",
       "      <td>4.0</td>\n",
       "      <td>3.666667</td>\n",
       "      <td>1.5</td>\n",
       "      <td>2.000000</td>\n",
       "      <td>4.0</td>\n",
       "      <td>1</td>\n",
       "      <td>0</td>\n",
       "      <td>0</td>\n",
       "      <td>0</td>\n",
       "      <td>1</td>\n",
       "      <td>0</td>\n",
       "      <td>1</td>\n",
       "      <td>0</td>\n",
       "      <td>1</td>\n",
       "      <td>0</td>\n",
       "      <td>1</td>\n",
       "      <td>0</td>\n",
       "      <td>1</td>\n",
       "      <td>0</td>\n",
       "      <td>1</td>\n",
       "      <td>0</td>\n",
       "      <td>1</td>\n",
       "      <td>0</td>\n",
       "      <td>0</td>\n",
       "      <td>0</td>\n",
       "      <td>0</td>\n",
       "      <td>0</td>\n",
       "      <td>0</td>\n",
       "      <td>1</td>\n",
       "      <td>0</td>\n",
       "      <td>0</td>\n",
       "      <td>0</td>\n",
       "      <td>0</td>\n",
       "      <td>1</td>\n",
       "      <td>0</td>\n",
       "      <td>0</td>\n",
       "      <td>0</td>\n",
       "      <td>1</td>\n",
       "      <td>0</td>\n",
       "      <td>0</td>\n",
       "      <td>0</td>\n",
       "      <td>0</td>\n",
       "      <td>0</td>\n",
       "      <td>1</td>\n",
       "      <td>0</td>\n",
       "      <td>1</td>\n",
       "      <td>0</td>\n",
       "      <td>0</td>\n",
       "      <td>0</td>\n",
       "      <td>1.0</td>\n",
       "    </tr>\n",
       "    <tr>\n",
       "      <th>96</th>\n",
       "      <td>04/05/2020 23:27</td>\n",
       "      <td>04/05/2020 23:30</td>\n",
       "      <td>Complete</td>\n",
       "      <td>37.0</td>\n",
       "      <td>2</td>\n",
       "      <td>2</td>\n",
       "      <td>3</td>\n",
       "      <td>4</td>\n",
       "      <td>2</td>\n",
       "      <td>3</td>\n",
       "      <td>No</td>\n",
       "      <td>3</td>\n",
       "      <td>No</td>\n",
       "      <td>No</td>\n",
       "      <td>Yes</td>\n",
       "      <td>No</td>\n",
       "      <td>No</td>\n",
       "      <td>No</td>\n",
       "      <td>1</td>\n",
       "      <td>3</td>\n",
       "      <td>2</td>\n",
       "      <td>5</td>\n",
       "      <td>5</td>\n",
       "      <td>NaN</td>\n",
       "      <td>NaN</td>\n",
       "      <td>NaN</td>\n",
       "      <td>2</td>\n",
       "      <td>1</td>\n",
       "      <td>4</td>\n",
       "      <td>3</td>\n",
       "      <td>3</td>\n",
       "      <td>5</td>\n",
       "      <td>5</td>\n",
       "      <td>3</td>\n",
       "      <td>4</td>\n",
       "      <td>3</td>\n",
       "      <td>2</td>\n",
       "      <td>1</td>\n",
       "      <td>4</td>\n",
       "      <td>male</td>\n",
       "      <td>Bachelor</td>\n",
       "      <td>Average</td>\n",
       "      <td>Muslim</td>\n",
       "      <td>Other</td>\n",
       "      <td>arabic</td>\n",
       "      <td>0</td>\n",
       "      <td>0</td>\n",
       "      <td>1</td>\n",
       "      <td>3</td>\n",
       "      <td>4</td>\n",
       "      <td>...</td>\n",
       "      <td>2.5</td>\n",
       "      <td>2.333333</td>\n",
       "      <td>1.5</td>\n",
       "      <td>2.333333</td>\n",
       "      <td>2.5</td>\n",
       "      <td>0</td>\n",
       "      <td>1</td>\n",
       "      <td>0</td>\n",
       "      <td>1</td>\n",
       "      <td>0</td>\n",
       "      <td>0</td>\n",
       "      <td>1</td>\n",
       "      <td>0</td>\n",
       "      <td>1</td>\n",
       "      <td>0</td>\n",
       "      <td>0</td>\n",
       "      <td>1</td>\n",
       "      <td>1</td>\n",
       "      <td>0</td>\n",
       "      <td>1</td>\n",
       "      <td>0</td>\n",
       "      <td>1</td>\n",
       "      <td>0</td>\n",
       "      <td>0</td>\n",
       "      <td>0</td>\n",
       "      <td>1</td>\n",
       "      <td>0</td>\n",
       "      <td>0</td>\n",
       "      <td>0</td>\n",
       "      <td>0</td>\n",
       "      <td>1</td>\n",
       "      <td>0</td>\n",
       "      <td>0</td>\n",
       "      <td>0</td>\n",
       "      <td>0</td>\n",
       "      <td>0</td>\n",
       "      <td>0</td>\n",
       "      <td>0</td>\n",
       "      <td>1</td>\n",
       "      <td>0</td>\n",
       "      <td>1</td>\n",
       "      <td>0</td>\n",
       "      <td>0</td>\n",
       "      <td>0</td>\n",
       "      <td>0</td>\n",
       "      <td>1</td>\n",
       "      <td>0</td>\n",
       "      <td>0</td>\n",
       "      <td>0</td>\n",
       "      <td>1.0</td>\n",
       "    </tr>\n",
       "  </tbody>\n",
       "</table>\n",
       "<p>5 rows × 107 columns</p>\n",
       "</div>"
      ],
      "text/plain": [
       "                 Time Started    Date Submitted    Status   age  \\\n",
       "Response ID                                                       \n",
       "379          05/05/2020 16:23  05/05/2020 16:26  Complete  21.0   \n",
       "61           04/05/2020 19:23  04/05/2020 19:29  Complete  34.0   \n",
       "280          05/05/2020 15:22  05/05/2020 15:24  Complete  21.0   \n",
       "288          05/05/2020 15:24  05/05/2020 15:33  Complete  65.0   \n",
       "96           04/05/2020 23:27  04/05/2020 23:30  Complete  37.0   \n",
       "\n",
       "             corona_threat_population  corona_threat_me  corona_worry_me  \\\n",
       "Response ID                                                                \n",
       "379                                 3                 2                4   \n",
       "61                                  4                 3                5   \n",
       "280                                 2                 3                4   \n",
       "288                                 2                 3                1   \n",
       "96                                  2                 2                3   \n",
       "\n",
       "             corona_worry_others  trust_leaders  follow_instructions  \\\n",
       "Response ID                                                            \n",
       "379                            4              3                    5   \n",
       "61                             5              4                    5   \n",
       "280                            2              3                    3   \n",
       "288                            1              4                    5   \n",
       "96                             4              2                    3   \n",
       "\n",
       "            was_in_quarentine  corona_financial_hurt corona_positive  \\\n",
       "Response ID                                                            \n",
       "379                        No                      4              No   \n",
       "61                         No                      2              No   \n",
       "280                        No                      3              No   \n",
       "288                        No                      3              No   \n",
       "96                         No                      3              No   \n",
       "\n",
       "            corona_know_positive corona_family_risk special_risk  \\\n",
       "Response ID                                                        \n",
       "379                           No                Yes           No   \n",
       "61                            No                Yes           No   \n",
       "280                           No                 No           No   \n",
       "288                           No                 No           No   \n",
       "96                            No                Yes           No   \n",
       "\n",
       "            work_in_healthcare hamagen_install  hamagen_recommend  \\\n",
       "Response ID                                                         \n",
       "379                         No              No                  2   \n",
       "61                          No              No                  2   \n",
       "280                         No             Yes                  3   \n",
       "288                         No              No                  2   \n",
       "96                          No              No                  1   \n",
       "\n",
       "             hamagen_help_no_infect  hamagen_reduce_my_risk  \\\n",
       "Response ID                                                   \n",
       "379                               3                       2   \n",
       "61                                4                       5   \n",
       "280                               3                       3   \n",
       "288                               4                       4   \n",
       "96                                3                       2   \n",
       "\n",
       "             hamagen_privacy_concern  hamagen_can_collect_sensitive  \\\n",
       "Response ID                                                           \n",
       "379                                4                              3   \n",
       "61                                 4                              4   \n",
       "280                                3                              3   \n",
       "288                                3                              4   \n",
       "96                                 5                              5   \n",
       "\n",
       "             hamagen_wrong_location  hamagen_errors  hamagen_battery  \\\n",
       "Response ID                                                            \n",
       "379                             NaN             NaN              NaN   \n",
       "61                              NaN             NaN              NaN   \n",
       "280                             3.0             3.0              3.0   \n",
       "288                             NaN             NaN              NaN   \n",
       "96                              NaN             NaN              NaN   \n",
       "\n",
       "             hamagen_public_areas  cellular_trust_delete  \\\n",
       "Response ID                                                \n",
       "379                             2                      3   \n",
       "61                              4                      3   \n",
       "280                             3                      3   \n",
       "288                             1                      3   \n",
       "96                              2                      1   \n",
       "\n",
       "             cellular_accept_leave_phone_home  cellular_help_prevent  \\\n",
       "Response ID                                                            \n",
       "379                                         4                      3   \n",
       "61                                          4                      4   \n",
       "280                                         3                      3   \n",
       "288                                         3                      4   \n",
       "96                                          4                      3   \n",
       "\n",
       "             cellular_reduce_my_risk  cellular_privacy_concern  \\\n",
       "Response ID                                                      \n",
       "379                                2                         4   \n",
       "61                                 4                         4   \n",
       "280                                3                         3   \n",
       "288                                4                         1   \n",
       "96                                 3                         5   \n",
       "\n",
       "             cellular_can_collect  solve_computer_problems  know_pdf  \\\n",
       "Response ID                                                            \n",
       "379                             3                        5         5   \n",
       "61                              4                        3         3   \n",
       "280                             3                        3         3   \n",
       "288                             4                        3         4   \n",
       "96                              5                        3         4   \n",
       "\n",
       "             know_spyware  know_wiki  know_cache  know_phishing  gender  \\\n",
       "Response ID                                                               \n",
       "379                     4          5           5              5    male   \n",
       "61                      1          1           1              1    male   \n",
       "280                     3          3           3              3    male   \n",
       "288                     1          1           3              1  female   \n",
       "96                      3          2           1              4    male   \n",
       "\n",
       "              education           socio_economy religion religion_degree  \\\n",
       "Response ID                                                                \n",
       "379          Highschool           Below Average   Jewish         Secular   \n",
       "61           Highschool  Strongly Below Average   Muslim           Other   \n",
       "280            Bachelor           Below Average    Druze           Other   \n",
       "288          Highschool                 Average   Jewish     Traditional   \n",
       "96             Bachelor                 Average   Muslim           Other   \n",
       "\n",
       "            language  hamagen_install_numbers  installed  gender_ord  \\\n",
       "Response ID                                                            \n",
       "379           hebrew                        0          0           1   \n",
       "61            arabic                        0          0           1   \n",
       "280           arabic                        1          1           1   \n",
       "288           hebrew                        0          0           0   \n",
       "96            arabic                        0          0           1   \n",
       "\n",
       "             socio_economy_level  education_level  ...  \\\n",
       "Response ID                                        ...   \n",
       "379                            1                2  ...   \n",
       "61                             0                2  ...   \n",
       "280                            1                4  ...   \n",
       "288                            3                2  ...   \n",
       "96                             3                4  ...   \n",
       "\n",
       "             hamagen_limited_utility  cellular_attitude  hamagen_attitude  \\\n",
       "Response ID                                                                 \n",
       "379                              2.5           2.666667               2.0   \n",
       "61                               4.5           3.666667               3.0   \n",
       "280                              3.0           3.000000               3.0   \n",
       "288                              4.0           3.666667               1.5   \n",
       "96                               2.5           2.333333               1.5   \n",
       "\n",
       "             covid_concern  hamagen_utility  gender_female  gender_male  \\\n",
       "Response ID                                                               \n",
       "379               3.000000              2.5              0            1   \n",
       "61                4.000000              4.5              0            1   \n",
       "280               3.000000              3.0              0            1   \n",
       "288               2.000000              4.0              1            0   \n",
       "96                2.333333              2.5              0            1   \n",
       "\n",
       "             gender_other  language_arabic  language_hebrew  language_other  \\\n",
       "Response ID                                                                   \n",
       "379                     0                0                1               0   \n",
       "61                      0                1                0               0   \n",
       "280                     0                1                0               0   \n",
       "288                     0                0                1               0   \n",
       "96                      0                1                0               0   \n",
       "\n",
       "             special_risk_No  special_risk_Yes  work_in_healthcare_No  \\\n",
       "Response ID                                                             \n",
       "379                        1                 0                      1   \n",
       "61                         1                 0                      1   \n",
       "280                        1                 0                      1   \n",
       "288                        1                 0                      1   \n",
       "96                         1                 0                      1   \n",
       "\n",
       "             work_in_healthcare_Yes  corona_family_risk_No  \\\n",
       "Response ID                                                  \n",
       "379                               0                      0   \n",
       "61                                0                      0   \n",
       "280                               0                      1   \n",
       "288                               0                      1   \n",
       "96                                0                      0   \n",
       "\n",
       "             corona_family_risk_Yes  was_in_quarentine_No  \\\n",
       "Response ID                                                 \n",
       "379                               1                     1   \n",
       "61                                1                     1   \n",
       "280                               0                     1   \n",
       "288                               0                     1   \n",
       "96                                1                     1   \n",
       "\n",
       "             was_in_quarentine_Yes  corona_know_positive_No  \\\n",
       "Response ID                                                   \n",
       "379                              0                        1   \n",
       "61                               0                        1   \n",
       "280                              0                        1   \n",
       "288                              0                        1   \n",
       "96                               0                        1   \n",
       "\n",
       "             corona_know_positive_Yes  corona_positive_No  \\\n",
       "Response ID                                                 \n",
       "379                                 0                   1   \n",
       "61                                  0                   1   \n",
       "280                                 0                   1   \n",
       "288                                 0                   1   \n",
       "96                                  0                   1   \n",
       "\n",
       "             corona_positive_Yes  age_group_1  age_group_2  age_group_3  \\\n",
       "Response ID                                                               \n",
       "379                            0            0            1            0   \n",
       "61                             0            0            0            1   \n",
       "280                            0            0            1            0   \n",
       "288                            0            0            0            0   \n",
       "96                             0            0            0            1   \n",
       "\n",
       "             age_group_4  age_group_5  age_group_6  age_group_7  \\\n",
       "Response ID                                                       \n",
       "379                    0            0            0            0   \n",
       "61                     0            0            0            0   \n",
       "280                    0            0            0            0   \n",
       "288                    0            0            1            0   \n",
       "96                     0            0            0            0   \n",
       "\n",
       "             education_Bachelor  education_Elementary  education_Graduate  \\\n",
       "Response ID                                                                 \n",
       "379                           0                     0                   0   \n",
       "61                            0                     0                   0   \n",
       "280                           1                     0                   0   \n",
       "288                           0                     0                   0   \n",
       "96                            1                     0                   0   \n",
       "\n",
       "             education_Highschool  education_Non Academic  religion_Christian  \\\n",
       "Response ID                                                                     \n",
       "379                             1                       0                   0   \n",
       "61                              1                       0                   0   \n",
       "280                             0                       0                   0   \n",
       "288                             1                       0                   0   \n",
       "96                              0                       0                   0   \n",
       "\n",
       "             religion_Druze  religion_Jewish  religion_Muslim  \\\n",
       "Response ID                                                     \n",
       "379                       0                1                0   \n",
       "61                        0                0                1   \n",
       "280                       1                0                0   \n",
       "288                       0                1                0   \n",
       "96                        0                0                1   \n",
       "\n",
       "             religion_degree_Orthodox  religion_degree_Other  \\\n",
       "Response ID                                                    \n",
       "379                                 0                      0   \n",
       "61                                  0                      1   \n",
       "280                                 0                      1   \n",
       "288                                 0                      0   \n",
       "96                                  0                      1   \n",
       "\n",
       "             religion_degree_Religious  religion_degree_Secular  \\\n",
       "Response ID                                                       \n",
       "379                                  0                        1   \n",
       "61                                   0                        0   \n",
       "280                                  0                        0   \n",
       "288                                  0                        0   \n",
       "96                                   0                        0   \n",
       "\n",
       "             religion_degree_Traditional  socio_economy_Above Average  \\\n",
       "Response ID                                                             \n",
       "379                                    0                            0   \n",
       "61                                     0                            0   \n",
       "280                                    0                            0   \n",
       "288                                    1                            0   \n",
       "96                                     0                            0   \n",
       "\n",
       "             socio_economy_Average  socio_economy_Below Average  \\\n",
       "Response ID                                                       \n",
       "379                              0                            1   \n",
       "61                               0                            0   \n",
       "280                              0                            1   \n",
       "288                              1                            0   \n",
       "96                               1                            0   \n",
       "\n",
       "             socio_economy_Strongly Above Average  \\\n",
       "Response ID                                         \n",
       "379                                             0   \n",
       "61                                              0   \n",
       "280                                             0   \n",
       "288                                             0   \n",
       "96                                              0   \n",
       "\n",
       "             socio_economy_Strongly Below Average  intercept  \n",
       "Response ID                                                   \n",
       "379                                             0        1.0  \n",
       "61                                              1        1.0  \n",
       "280                                             0        1.0  \n",
       "288                                             0        1.0  \n",
       "96                                              0        1.0  \n",
       "\n",
       "[5 rows x 107 columns]"
      ]
     },
     "execution_count": 255,
     "metadata": {},
     "output_type": "execute_result"
    }
   ],
   "source": [
    "sur_no_removed.head()"
   ]
  },
  {
   "cell_type": "code",
   "execution_count": 256,
   "metadata": {},
   "outputs": [],
   "source": [
    "cols=['intercept', 'corona_family_risk_No', 'hamagen_attitude', 'covid_concern',  'trust_leaders', 'follow_instructions',\n",
    "      'hamagen_utility', 'hamagen_privacy', 'cellular_utility', 'tech', 'special_risk_Yes', 'age_group_1', 'age_group_2', 'age_group_3', 'age_group_4',\n",
    "      'age_group_5','age_group_6','age_group_7','gender_female', \n",
    "      'education_Graduate', 'religion_Muslim', 'religion_Jewish',\n",
    "      'religion_degree_Orthodox', 'religion_degree_Religious', 'corona_know_positive_Yes', 'special_risk_No', \n",
    "      'socio_economy_Above Average', 'socio_economy_Average', 'socio_economy_Strongly Below Average', 'socio_economy_Below Average'] \n",
    "\n",
    "\n",
    "\n",
    "X=sur_no_removed[cols]\n",
    "y=sur_no_removed['hamagen_install_numbers']"
   ]
  },
  {
   "cell_type": "markdown",
   "metadata": {},
   "source": [
    "## Feature Selection\n",
    "\n",
    "Taken from: https://towardsdatascience.com/feature-selection-with-pandas-e3690ad8504b"
   ]
  },
  {
   "cell_type": "markdown",
   "metadata": {},
   "source": [
    "### Embedded Method with Lasso regularization"
   ]
  },
  {
   "cell_type": "code",
   "execution_count": 257,
   "metadata": {},
   "outputs": [
    {
     "name": "stdout",
     "output_type": "stream",
     "text": [
      "Best alpha using built-in LassoCV: 0.017432\n",
      "Best score using built-in LassoCV: 0.290681\n",
      "Lasso picked 5 variables and eliminated the other 25 variables\n"
     ]
    },
    {
     "data": {
      "text/plain": [
       "Text(0.5, 1.0, 'Feature importance using Lasso Model')"
      ]
     },
     "execution_count": 257,
     "metadata": {},
     "output_type": "execute_result"
    },
    {
     "data": {
      "image/png": "[encoded data removed]",
      "text/plain": [
       "<Figure size 576x720 with 1 Axes>"
      ]
     },
     "metadata": {
      "needs_background": "light"
     },
     "output_type": "display_data"
    }
   ],
   "source": [
    "from sklearn.linear_model import RidgeCV, LassoCV, Ridge, Lasso\n",
    "\n",
    "reg = LassoCV()\n",
    "reg.fit(X, y)\n",
    "print(\"Best alpha using built-in LassoCV: %f\" % reg.alpha_)\n",
    "print(\"Best score using built-in LassoCV: %f\" %reg.score(X,y))\n",
    "coef = pd.Series(reg.coef_, index = X.columns)\n",
    "print(\"Lasso picked \" + str(sum(coef != 0)) + \" variables and eliminated the other \" +  str(sum(coef == 0)) + \" variables\")\n",
    "imp_coef = coef.sort_values()\n",
    "import matplotlib\n",
    "matplotlib.rcParams['figure.figsize'] = (8.0, 10.0)\n",
    "imp_coef.plot(kind = \"barh\")\n",
    "plt.title(\"Feature importance using Lasso Model\")"
   ]
  },
  {
   "cell_type": "markdown",
   "metadata": {},
   "source": [
    "### Recursive Feature Elimination\n"
   ]
  },
  {
   "cell_type": "code",
   "execution_count": 258,
   "metadata": {},
   "outputs": [
    {
     "name": "stdout",
     "output_type": "stream",
     "text": [
      "[False False  True False False False False  True  True False False  True\n",
      "  True False False False False  True  True  True  True  True  True  True\n",
      "  True False False False False False]\n",
      "[16 17  1 10 13  5 11  1  1  2 18  1  1  6  8  7  3  1  1  1  1  1  1  1\n",
      "  1 14 12  4 15  9]\n",
      "Index(['hamagen_attitude', 'hamagen_privacy', 'cellular_utility',\n",
      "       'age_group_1', 'age_group_2', 'age_group_7', 'gender_female',\n",
      "       'education_Graduate', 'religion_Muslim', 'religion_Jewish',\n",
      "       'religion_degree_Orthodox', 'religion_degree_Religious',\n",
      "       'corona_know_positive_Yes'],\n",
      "      dtype='object')\n"
     ]
    }
   ],
   "source": [
    "from sklearn.feature_selection import RFE\n",
    "import warnings\n",
    "warnings.filterwarnings('ignore')\n",
    "\n",
    "model = LogisticRegression()\n",
    "number_of_features = 13\n",
    "#Initializing RFE model\n",
    "rfe = RFE(model, number_of_features)\n",
    "#Transforming data using RFE\n",
    "X_rfe = rfe.fit_transform(X,y)  \n",
    "\n",
    "#Fitting the data to model\n",
    "model.fit(X_rfe,y)\n",
    "print(rfe.support_)\n",
    "print(rfe.ranking_)\n",
    "\n",
    "temp = pd.Series(rfe.support_,index = cols)\n",
    "selected_features_rfe = temp[temp==True].index\n",
    "print(selected_features_rfe)"
   ]
  },
  {
   "cell_type": "code",
   "execution_count": 259,
   "metadata": {},
   "outputs": [
    {
     "name": "stdout",
     "output_type": "stream",
     "text": [
      "Optimum number of features: 1\n",
      "Score with 1 features: 0.790210\n"
     ]
    }
   ],
   "source": [
    "#no of features\n",
    "nof_list=np.arange(1,13)            \n",
    "high_score=0\n",
    "#Variable to store the optimum features\n",
    "nof=0           \n",
    "score_list =[]\n",
    "for n in range(len(nof_list)):\n",
    "    X_train, X_test, y_train, y_test = train_test_split(X,y, test_size = 0.3, random_state = 0)\n",
    "    model = LogisticRegression()\n",
    "    rfe = RFE(model,nof_list[n])\n",
    "    X_train_rfe = rfe.fit_transform(X_train,y_train)\n",
    "    X_test_rfe = rfe.transform(X_test)\n",
    "    model.fit(X_train_rfe,y_train)\n",
    "    score = model.score(X_test_rfe,y_test)\n",
    "    score_list.append(score)\n",
    "    if(score>high_score):\n",
    "        high_score = score\n",
    "        nof = nof_list[n]\n",
    "print(\"Optimum number of features: %d\" %nof)\n",
    "print(\"Score with %d features: %f\" % (nof, high_score))\n"
   ]
  },
  {
   "cell_type": "markdown",
   "metadata": {},
   "source": [
    "## Analyzing demographics and HaMagen installations"
   ]
  },
  {
   "cell_type": "markdown",
   "metadata": {},
   "source": [
    "### Installation by gender\n",
    "- The proportion of installations for men is higher"
   ]
  },
  {
   "cell_type": "code",
   "execution_count": 72,
   "metadata": {},
   "outputs": [
    {
     "data": {
      "text/html": [
       "<div>\n",
       "<style scoped>\n",
       "    .dataframe tbody tr th:only-of-type {\n",
       "        vertical-align: middle;\n",
       "    }\n",
       "\n",
       "    .dataframe tbody tr th {\n",
       "        vertical-align: top;\n",
       "    }\n",
       "\n",
       "    .dataframe thead th {\n",
       "        text-align: right;\n",
       "    }\n",
       "</style>\n",
       "<table border=\"1\" class=\"dataframe\">\n",
       "  <thead>\n",
       "    <tr style=\"text-align: right;\">\n",
       "      <th>hamagen_install</th>\n",
       "      <th>No</th>\n",
       "      <th>Removed</th>\n",
       "      <th>Yes</th>\n",
       "    </tr>\n",
       "    <tr>\n",
       "      <th>gender</th>\n",
       "      <th></th>\n",
       "      <th></th>\n",
       "      <th></th>\n",
       "    </tr>\n",
       "  </thead>\n",
       "  <tbody>\n",
       "    <tr>\n",
       "      <th>female</th>\n",
       "      <td>0.644928</td>\n",
       "      <td>0.079710</td>\n",
       "      <td>0.275362</td>\n",
       "    </tr>\n",
       "    <tr>\n",
       "      <th>male</th>\n",
       "      <td>0.531381</td>\n",
       "      <td>0.096234</td>\n",
       "      <td>0.372385</td>\n",
       "    </tr>\n",
       "    <tr>\n",
       "      <th>other</th>\n",
       "      <td>0.750000</td>\n",
       "      <td>0.000000</td>\n",
       "      <td>0.250000</td>\n",
       "    </tr>\n",
       "  </tbody>\n",
       "</table>\n",
       "</div>"
      ],
      "text/plain": [
       "hamagen_install        No   Removed       Yes\n",
       "gender                                       \n",
       "female           0.644928  0.079710  0.275362\n",
       "male             0.531381  0.096234  0.372385\n",
       "other            0.750000  0.000000  0.250000"
      ]
     },
     "execution_count": 72,
     "metadata": {},
     "output_type": "execute_result"
    }
   ],
   "source": [
    "pd.crosstab(sur.gender,sur.hamagen_install).apply(lambda r: r/r.sum(), axis=1)\n"
   ]
  },
  {
   "cell_type": "markdown",
   "metadata": {},
   "source": [
    "### Installation by age group\n",
    "- older adults install in about 80% more than younger adults"
   ]
  },
  {
   "cell_type": "code",
   "execution_count": 73,
   "metadata": {},
   "outputs": [
    {
     "data": {
      "text/html": [
       "<div>\n",
       "<style scoped>\n",
       "    .dataframe tbody tr th:only-of-type {\n",
       "        vertical-align: middle;\n",
       "    }\n",
       "\n",
       "    .dataframe tbody tr th {\n",
       "        vertical-align: top;\n",
       "    }\n",
       "\n",
       "    .dataframe thead th {\n",
       "        text-align: right;\n",
       "    }\n",
       "</style>\n",
       "<table border=\"1\" class=\"dataframe\">\n",
       "  <thead>\n",
       "    <tr style=\"text-align: right;\">\n",
       "      <th>hamagen_install</th>\n",
       "      <th>No</th>\n",
       "      <th>Removed</th>\n",
       "      <th>Yes</th>\n",
       "    </tr>\n",
       "    <tr>\n",
       "      <th>age_group</th>\n",
       "      <th></th>\n",
       "      <th></th>\n",
       "      <th></th>\n",
       "    </tr>\n",
       "  </thead>\n",
       "  <tbody>\n",
       "    <tr>\n",
       "      <th>1</th>\n",
       "      <td>0.600000</td>\n",
       "      <td>0.100000</td>\n",
       "      <td>0.300000</td>\n",
       "    </tr>\n",
       "    <tr>\n",
       "      <th>2</th>\n",
       "      <td>0.639241</td>\n",
       "      <td>0.094937</td>\n",
       "      <td>0.265823</td>\n",
       "    </tr>\n",
       "    <tr>\n",
       "      <th>3</th>\n",
       "      <td>0.611511</td>\n",
       "      <td>0.079137</td>\n",
       "      <td>0.309353</td>\n",
       "    </tr>\n",
       "    <tr>\n",
       "      <th>4</th>\n",
       "      <td>0.555556</td>\n",
       "      <td>0.086420</td>\n",
       "      <td>0.358025</td>\n",
       "    </tr>\n",
       "    <tr>\n",
       "      <th>5</th>\n",
       "      <td>0.592105</td>\n",
       "      <td>0.078947</td>\n",
       "      <td>0.328947</td>\n",
       "    </tr>\n",
       "    <tr>\n",
       "      <th>6</th>\n",
       "      <td>0.500000</td>\n",
       "      <td>0.096154</td>\n",
       "      <td>0.403846</td>\n",
       "    </tr>\n",
       "    <tr>\n",
       "      <th>7</th>\n",
       "      <td>0.000000</td>\n",
       "      <td>0.000000</td>\n",
       "      <td>1.000000</td>\n",
       "    </tr>\n",
       "  </tbody>\n",
       "</table>\n",
       "</div>"
      ],
      "text/plain": [
       "hamagen_install        No   Removed       Yes\n",
       "age_group                                    \n",
       "1                0.600000  0.100000  0.300000\n",
       "2                0.639241  0.094937  0.265823\n",
       "3                0.611511  0.079137  0.309353\n",
       "4                0.555556  0.086420  0.358025\n",
       "5                0.592105  0.078947  0.328947\n",
       "6                0.500000  0.096154  0.403846\n",
       "7                0.000000  0.000000  1.000000"
      ]
     },
     "execution_count": 73,
     "metadata": {},
     "output_type": "execute_result"
    }
   ],
   "source": [
    "pd.crosstab(sur.age_group,sur.hamagen_install).apply(lambda r: r/r.sum(), axis=1)\n"
   ]
  },
  {
   "cell_type": "markdown",
   "metadata": {},
   "source": [
    "### Installation by Religion\n",
    "- Seems that proportions of installations are similar between religions"
   ]
  },
  {
   "cell_type": "code",
   "execution_count": 74,
   "metadata": {},
   "outputs": [
    {
     "data": {
      "text/html": [
       "<div>\n",
       "<style scoped>\n",
       "    .dataframe tbody tr th:only-of-type {\n",
       "        vertical-align: middle;\n",
       "    }\n",
       "\n",
       "    .dataframe tbody tr th {\n",
       "        vertical-align: top;\n",
       "    }\n",
       "\n",
       "    .dataframe thead th {\n",
       "        text-align: right;\n",
       "    }\n",
       "</style>\n",
       "<table border=\"1\" class=\"dataframe\">\n",
       "  <thead>\n",
       "    <tr style=\"text-align: right;\">\n",
       "      <th>hamagen_install</th>\n",
       "      <th>No</th>\n",
       "      <th>Removed</th>\n",
       "      <th>Yes</th>\n",
       "    </tr>\n",
       "    <tr>\n",
       "      <th>religion</th>\n",
       "      <th></th>\n",
       "      <th></th>\n",
       "      <th></th>\n",
       "    </tr>\n",
       "  </thead>\n",
       "  <tbody>\n",
       "    <tr>\n",
       "      <th>Christian</th>\n",
       "      <td>0.562500</td>\n",
       "      <td>0.062500</td>\n",
       "      <td>0.375000</td>\n",
       "    </tr>\n",
       "    <tr>\n",
       "      <th>Druze</th>\n",
       "      <td>0.590909</td>\n",
       "      <td>0.136364</td>\n",
       "      <td>0.272727</td>\n",
       "    </tr>\n",
       "    <tr>\n",
       "      <th>Jewish</th>\n",
       "      <td>0.584507</td>\n",
       "      <td>0.093897</td>\n",
       "      <td>0.321596</td>\n",
       "    </tr>\n",
       "    <tr>\n",
       "      <th>Muslim</th>\n",
       "      <td>0.672727</td>\n",
       "      <td>0.018182</td>\n",
       "      <td>0.309091</td>\n",
       "    </tr>\n",
       "  </tbody>\n",
       "</table>\n",
       "</div>"
      ],
      "text/plain": [
       "hamagen_install        No   Removed       Yes\n",
       "religion                                     \n",
       "Christian        0.562500  0.062500  0.375000\n",
       "Druze            0.590909  0.136364  0.272727\n",
       "Jewish           0.584507  0.093897  0.321596\n",
       "Muslim           0.672727  0.018182  0.309091"
      ]
     },
     "execution_count": 74,
     "metadata": {},
     "output_type": "execute_result"
    }
   ],
   "source": [
    "pd.crosstab(sur.religion,sur.hamagen_install).apply(lambda r: r/r.sum(), axis=1)\n"
   ]
  },
  {
   "cell_type": "markdown",
   "metadata": {},
   "source": [
    "### Differences in installation according to religion degree\n",
    "- Secular and traditional particpnats installed it more"
   ]
  },
  {
   "cell_type": "code",
   "execution_count": 75,
   "metadata": {},
   "outputs": [
    {
     "data": {
      "text/html": [
       "<div>\n",
       "<style scoped>\n",
       "    .dataframe tbody tr th:only-of-type {\n",
       "        vertical-align: middle;\n",
       "    }\n",
       "\n",
       "    .dataframe tbody tr th {\n",
       "        vertical-align: top;\n",
       "    }\n",
       "\n",
       "    .dataframe thead th {\n",
       "        text-align: right;\n",
       "    }\n",
       "</style>\n",
       "<table border=\"1\" class=\"dataframe\">\n",
       "  <thead>\n",
       "    <tr style=\"text-align: right;\">\n",
       "      <th>hamagen_install</th>\n",
       "      <th>No</th>\n",
       "      <th>Removed</th>\n",
       "      <th>Yes</th>\n",
       "    </tr>\n",
       "    <tr>\n",
       "      <th>religion_degree</th>\n",
       "      <th></th>\n",
       "      <th></th>\n",
       "      <th></th>\n",
       "    </tr>\n",
       "  </thead>\n",
       "  <tbody>\n",
       "    <tr>\n",
       "      <th>Orthodox</th>\n",
       "      <td>0.650000</td>\n",
       "      <td>0.075000</td>\n",
       "      <td>0.275000</td>\n",
       "    </tr>\n",
       "    <tr>\n",
       "      <th>Other</th>\n",
       "      <td>0.634409</td>\n",
       "      <td>0.053763</td>\n",
       "      <td>0.311828</td>\n",
       "    </tr>\n",
       "    <tr>\n",
       "      <th>Religious</th>\n",
       "      <td>0.666667</td>\n",
       "      <td>0.070175</td>\n",
       "      <td>0.263158</td>\n",
       "    </tr>\n",
       "    <tr>\n",
       "      <th>Secular</th>\n",
       "      <td>0.557895</td>\n",
       "      <td>0.105263</td>\n",
       "      <td>0.336842</td>\n",
       "    </tr>\n",
       "    <tr>\n",
       "      <th>Traditional</th>\n",
       "      <td>0.568345</td>\n",
       "      <td>0.093525</td>\n",
       "      <td>0.338129</td>\n",
       "    </tr>\n",
       "  </tbody>\n",
       "</table>\n",
       "</div>"
      ],
      "text/plain": [
       "hamagen_install        No   Removed       Yes\n",
       "religion_degree                              \n",
       "Orthodox         0.650000  0.075000  0.275000\n",
       "Other            0.634409  0.053763  0.311828\n",
       "Religious        0.666667  0.070175  0.263158\n",
       "Secular          0.557895  0.105263  0.336842\n",
       "Traditional      0.568345  0.093525  0.338129"
      ]
     },
     "execution_count": 75,
     "metadata": {},
     "output_type": "execute_result"
    }
   ],
   "source": [
    "pd.crosstab(sur.religion_degree,sur.hamagen_install).apply(lambda r: r/r.sum(), axis=1)\n"
   ]
  },
  {
   "cell_type": "code",
   "execution_count": 76,
   "metadata": {},
   "outputs": [
    {
     "data": {
      "text/plain": [
       "Secular        190\n",
       "Traditional    139\n",
       "Other           93\n",
       "Religious       57\n",
       "Orthodox        40\n",
       "Name: religion_degree, dtype: int64"
      ]
     },
     "execution_count": 76,
     "metadata": {},
     "output_type": "execute_result"
    }
   ],
   "source": [
    "sur.religion_degree.value_counts()"
   ]
  },
  {
   "cell_type": "markdown",
   "metadata": {},
   "source": [
    "### Differences of installation according to education\n",
    "- Graduates install the app about 30-40% more than others\n",
    "- Number of elemntary is very small - 3"
   ]
  },
  {
   "cell_type": "code",
   "execution_count": 77,
   "metadata": {},
   "outputs": [
    {
     "data": {
      "text/html": [
       "<div>\n",
       "<style scoped>\n",
       "    .dataframe tbody tr th:only-of-type {\n",
       "        vertical-align: middle;\n",
       "    }\n",
       "\n",
       "    .dataframe tbody tr th {\n",
       "        vertical-align: top;\n",
       "    }\n",
       "\n",
       "    .dataframe thead th {\n",
       "        text-align: right;\n",
       "    }\n",
       "</style>\n",
       "<table border=\"1\" class=\"dataframe\">\n",
       "  <thead>\n",
       "    <tr style=\"text-align: right;\">\n",
       "      <th>hamagen_install</th>\n",
       "      <th>No</th>\n",
       "      <th>Removed</th>\n",
       "      <th>Yes</th>\n",
       "    </tr>\n",
       "    <tr>\n",
       "      <th>education</th>\n",
       "      <th></th>\n",
       "      <th></th>\n",
       "      <th></th>\n",
       "    </tr>\n",
       "  </thead>\n",
       "  <tbody>\n",
       "    <tr>\n",
       "      <th>Bachelor</th>\n",
       "      <td>0.586957</td>\n",
       "      <td>0.076087</td>\n",
       "      <td>0.336957</td>\n",
       "    </tr>\n",
       "    <tr>\n",
       "      <th>Elementary</th>\n",
       "      <td>0.666667</td>\n",
       "      <td>0.000000</td>\n",
       "      <td>0.333333</td>\n",
       "    </tr>\n",
       "    <tr>\n",
       "      <th>Graduate</th>\n",
       "      <td>0.493827</td>\n",
       "      <td>0.086420</td>\n",
       "      <td>0.419753</td>\n",
       "    </tr>\n",
       "    <tr>\n",
       "      <th>Highschool</th>\n",
       "      <td>0.651786</td>\n",
       "      <td>0.053571</td>\n",
       "      <td>0.294643</td>\n",
       "    </tr>\n",
       "    <tr>\n",
       "      <th>Non Academic</th>\n",
       "      <td>0.611511</td>\n",
       "      <td>0.129496</td>\n",
       "      <td>0.258993</td>\n",
       "    </tr>\n",
       "  </tbody>\n",
       "</table>\n",
       "</div>"
      ],
      "text/plain": [
       "hamagen_install        No   Removed       Yes\n",
       "education                                    \n",
       "Bachelor         0.586957  0.076087  0.336957\n",
       "Elementary       0.666667  0.000000  0.333333\n",
       "Graduate         0.493827  0.086420  0.419753\n",
       "Highschool       0.651786  0.053571  0.294643\n",
       "Non Academic     0.611511  0.129496  0.258993"
      ]
     },
     "execution_count": 77,
     "metadata": {},
     "output_type": "execute_result"
    }
   ],
   "source": [
    "pd.crosstab(sur.education,sur.hamagen_install).apply(lambda r: r/r.sum(), axis=1)\n"
   ]
  },
  {
   "cell_type": "code",
   "execution_count": 78,
   "metadata": {},
   "outputs": [
    {
     "data": {
      "text/html": [
       "<div>\n",
       "<style scoped>\n",
       "    .dataframe tbody tr th:only-of-type {\n",
       "        vertical-align: middle;\n",
       "    }\n",
       "\n",
       "    .dataframe tbody tr th {\n",
       "        vertical-align: top;\n",
       "    }\n",
       "\n",
       "    .dataframe thead th {\n",
       "        text-align: right;\n",
       "    }\n",
       "</style>\n",
       "<table border=\"1\" class=\"dataframe\">\n",
       "  <thead>\n",
       "    <tr style=\"text-align: right;\">\n",
       "      <th>hamagen_install</th>\n",
       "      <th>No</th>\n",
       "      <th>Removed</th>\n",
       "      <th>Yes</th>\n",
       "    </tr>\n",
       "    <tr>\n",
       "      <th>education</th>\n",
       "      <th></th>\n",
       "      <th></th>\n",
       "      <th></th>\n",
       "    </tr>\n",
       "  </thead>\n",
       "  <tbody>\n",
       "    <tr>\n",
       "      <th>Bachelor</th>\n",
       "      <td>0.586957</td>\n",
       "      <td>0.076087</td>\n",
       "      <td>0.336957</td>\n",
       "    </tr>\n",
       "    <tr>\n",
       "      <th>Elementary</th>\n",
       "      <td>0.666667</td>\n",
       "      <td>0.000000</td>\n",
       "      <td>0.333333</td>\n",
       "    </tr>\n",
       "    <tr>\n",
       "      <th>Graduate</th>\n",
       "      <td>0.493827</td>\n",
       "      <td>0.086420</td>\n",
       "      <td>0.419753</td>\n",
       "    </tr>\n",
       "    <tr>\n",
       "      <th>Highschool</th>\n",
       "      <td>0.651786</td>\n",
       "      <td>0.053571</td>\n",
       "      <td>0.294643</td>\n",
       "    </tr>\n",
       "    <tr>\n",
       "      <th>Non Academic</th>\n",
       "      <td>0.611511</td>\n",
       "      <td>0.129496</td>\n",
       "      <td>0.258993</td>\n",
       "    </tr>\n",
       "  </tbody>\n",
       "</table>\n",
       "</div>"
      ],
      "text/plain": [
       "hamagen_install        No   Removed       Yes\n",
       "education                                    \n",
       "Bachelor         0.586957  0.076087  0.336957\n",
       "Elementary       0.666667  0.000000  0.333333\n",
       "Graduate         0.493827  0.086420  0.419753\n",
       "Highschool       0.651786  0.053571  0.294643\n",
       "Non Academic     0.611511  0.129496  0.258993"
      ]
     },
     "execution_count": 78,
     "metadata": {},
     "output_type": "execute_result"
    }
   ],
   "source": [
    "pd.crosstab(sur.education,sur.hamagen_install).apply(lambda r: r/r.sum(), axis=1)\n"
   ]
  },
  {
   "cell_type": "code",
   "execution_count": 79,
   "metadata": {},
   "outputs": [
    {
     "data": {
      "text/plain": [
       "Bachelor        184\n",
       "Non Academic    139\n",
       "Highschool      112\n",
       "Graduate         81\n",
       "Elementary        3\n",
       "Name: education, dtype: int64"
      ]
     },
     "execution_count": 79,
     "metadata": {},
     "output_type": "execute_result"
    }
   ],
   "source": [
    "sur.education.value_counts()"
   ]
  },
  {
   "cell_type": "markdown",
   "metadata": {},
   "source": [
    "# Comparing HaMagen and Cellular Tracking"
   ]
  },
  {
   "cell_type": "markdown",
   "metadata": {},
   "source": [
    "Conclusions:\n",
    "- We don't see significant differences in the approach "
   ]
  },
  {
   "cell_type": "code",
   "execution_count": 82,
   "metadata": {},
   "outputs": [
    {
     "data": {
      "image/png": "[encoded data removed]",
      "text/plain": [
       "<Figure size 792x324 with 1 Axes>"
      ]
     },
     "metadata": {
      "needs_background": "light"
     },
     "output_type": "display_data"
    },
    {
     "data": {
      "text/html": [
       "<div>\n",
       "<style scoped>\n",
       "    .dataframe tbody tr th:only-of-type {\n",
       "        vertical-align: middle;\n",
       "    }\n",
       "\n",
       "    .dataframe tbody tr th {\n",
       "        vertical-align: top;\n",
       "    }\n",
       "\n",
       "    .dataframe thead th {\n",
       "        text-align: right;\n",
       "    }\n",
       "</style>\n",
       "<table border=\"1\" class=\"dataframe\">\n",
       "  <thead>\n",
       "    <tr style=\"text-align: right;\">\n",
       "      <th></th>\n",
       "      <th>Strongly Disagree</th>\n",
       "      <th>Disagree</th>\n",
       "      <th>Neutral</th>\n",
       "      <th>Agree</th>\n",
       "      <th>Strongly Agree</th>\n",
       "    </tr>\n",
       "  </thead>\n",
       "  <tbody>\n",
       "    <tr>\n",
       "      <th>I am worried of the information\\nthe app can collect on me</th>\n",
       "      <td>79</td>\n",
       "      <td>87</td>\n",
       "      <td>129</td>\n",
       "      <td>115</td>\n",
       "      <td>109</td>\n",
       "    </tr>\n",
       "    <tr>\n",
       "      <th>The app can collect sensitive\\ninformation</th>\n",
       "      <td>69</td>\n",
       "      <td>100</td>\n",
       "      <td>127</td>\n",
       "      <td>102</td>\n",
       "      <td>121</td>\n",
       "    </tr>\n",
       "  </tbody>\n",
       "</table>\n",
       "</div>"
      ],
      "text/plain": [
       "                                                    Strongly Disagree  \\\n",
       "I am worried of the information\\nthe app can co...                 79   \n",
       "The app can collect sensitive\\ninformation                         69   \n",
       "\n",
       "                                                    Disagree  Neutral  Agree  \\\n",
       "I am worried of the information\\nthe app can co...        87      129    115   \n",
       "The app can collect sensitive\\ninformation               100      127    102   \n",
       "\n",
       "                                                    Strongly Agree  \n",
       "I am worried of the information\\nthe app can co...             109  \n",
       "The app can collect sensitive\\ninformation                     121  "
      ]
     },
     "execution_count": 82,
     "metadata": {},
     "output_type": "execute_result"
    }
   ],
   "source": [
    "cols=['hamagen_privacy_concern', 'cellular_privacy_concern'] \n",
    "small=sur[cols]\n",
    "df1 = small.apply(pd.Series.value_counts)\n",
    "df1.head()\n",
    "likert_colors = ['firebrick','lightcoral','gainsboro','cornflowerblue', 'darkblue']\n",
    "pivot_df = df1.transpose() \n",
    "\n",
    "pivot_df.rename(index={'hamagen_privacy_concern':'I am worried of the information\\nthe app can collect on me'},inplace=True)\n",
    "pivot_df.rename(index={'cellular_privacy_concern':'The app can collect sensitive\\ninformation'},inplace=True)\n",
    "\n",
    "pivot_df.columns = ['Strongly Disagree','Disagree','Neutral','Agree','Strongly Agree']\n",
    "create_stacked_bar(pivot_df, 1.4, figsize=(11,4.5), savefile=True)\n",
    "pivot_df\n"
   ]
  },
  {
   "cell_type": "code",
   "execution_count": 83,
   "metadata": {},
   "outputs": [
    {
     "data": {
      "image/png": "[encoded data removed]",
      "text/plain": [
       "<Figure size 792x324 with 1 Axes>"
      ]
     },
     "metadata": {
      "needs_background": "light"
     },
     "output_type": "display_data"
    },
    {
     "data": {
      "text/html": [
       "<div>\n",
       "<style scoped>\n",
       "    .dataframe tbody tr th:only-of-type {\n",
       "        vertical-align: middle;\n",
       "    }\n",
       "\n",
       "    .dataframe tbody tr th {\n",
       "        vertical-align: top;\n",
       "    }\n",
       "\n",
       "    .dataframe thead th {\n",
       "        text-align: right;\n",
       "    }\n",
       "</style>\n",
       "<table border=\"1\" class=\"dataframe\">\n",
       "  <thead>\n",
       "    <tr style=\"text-align: right;\">\n",
       "      <th></th>\n",
       "      <th>3</th>\n",
       "      <th>2</th>\n",
       "      <th>4</th>\n",
       "      <th>1</th>\n",
       "      <th>5</th>\n",
       "    </tr>\n",
       "  </thead>\n",
       "  <tbody>\n",
       "    <tr>\n",
       "      <th>hamagen_reduce_my_risk</th>\n",
       "      <td>166</td>\n",
       "      <td>135</td>\n",
       "      <td>98</td>\n",
       "      <td>74</td>\n",
       "      <td>46</td>\n",
       "    </tr>\n",
       "    <tr>\n",
       "      <th>cellular_reduce_my_risk</th>\n",
       "      <td>187</td>\n",
       "      <td>122</td>\n",
       "      <td>110</td>\n",
       "      <td>61</td>\n",
       "      <td>39</td>\n",
       "    </tr>\n",
       "  </tbody>\n",
       "</table>\n",
       "</div>"
      ],
      "text/plain": [
       "                           3    2    4   1   5\n",
       "hamagen_reduce_my_risk   166  135   98  74  46\n",
       "cellular_reduce_my_risk  187  122  110  61  39"
      ]
     },
     "execution_count": 83,
     "metadata": {},
     "output_type": "execute_result"
    }
   ],
   "source": [
    "cols=['hamagen_reduce_my_risk', 'cellular_reduce_my_risk'] \n",
    "small=sur[cols]\n",
    "df1 = small.apply(pd.Series.value_counts)\n",
    "df1.head()\n",
    "likert_colors = ['firebrick','lightcoral','gainsboro','cornflowerblue', 'darkblue']\n",
    "pivot_df = df1.transpose() \n",
    "\n",
    "pivot_df.rename(index={'hamagen_reduce_my_risk':'hamagen_reduce_my_risk'},inplace=True)\n",
    "pivot_df.rename(index={'cellular_reduce_my_risk':'cellular_reduce_my_risk'},inplace=True)\n",
    "\n",
    "#pivot_df.columns = ['Strongly Disagree','Disagree','Neutral','Agree','Strongly Agree']\n",
    "create_stacked_bar(pivot_df, 1.4, figsize=(11,4.5), savefile=True)\n",
    "pivot_df"
   ]
  },
  {
   "cell_type": "code",
   "execution_count": 84,
   "metadata": {},
   "outputs": [
    {
     "data": {
      "image/png": "[encoded data removed]",
      "text/plain": [
       "<Figure size 792x324 with 1 Axes>"
      ]
     },
     "metadata": {
      "needs_background": "light"
     },
     "output_type": "display_data"
    },
    {
     "data": {
      "text/html": [
       "<div>\n",
       "<style scoped>\n",
       "    .dataframe tbody tr th:only-of-type {\n",
       "        vertical-align: middle;\n",
       "    }\n",
       "\n",
       "    .dataframe tbody tr th {\n",
       "        vertical-align: top;\n",
       "    }\n",
       "\n",
       "    .dataframe thead th {\n",
       "        text-align: right;\n",
       "    }\n",
       "</style>\n",
       "<table border=\"1\" class=\"dataframe\">\n",
       "  <thead>\n",
       "    <tr style=\"text-align: right;\">\n",
       "      <th></th>\n",
       "      <th>3</th>\n",
       "      <th>2</th>\n",
       "      <th>4</th>\n",
       "      <th>1</th>\n",
       "      <th>5</th>\n",
       "    </tr>\n",
       "  </thead>\n",
       "  <tbody>\n",
       "    <tr>\n",
       "      <th>hamagen_reduce_my_risk</th>\n",
       "      <td>166</td>\n",
       "      <td>135</td>\n",
       "      <td>98</td>\n",
       "      <td>74</td>\n",
       "      <td>46</td>\n",
       "    </tr>\n",
       "    <tr>\n",
       "      <th>cellular_reduce_my_risk</th>\n",
       "      <td>187</td>\n",
       "      <td>122</td>\n",
       "      <td>110</td>\n",
       "      <td>61</td>\n",
       "      <td>39</td>\n",
       "    </tr>\n",
       "  </tbody>\n",
       "</table>\n",
       "</div>"
      ],
      "text/plain": [
       "                           3    2    4   1   5\n",
       "hamagen_reduce_my_risk   166  135   98  74  46\n",
       "cellular_reduce_my_risk  187  122  110  61  39"
      ]
     },
     "execution_count": 84,
     "metadata": {},
     "output_type": "execute_result"
    }
   ],
   "source": [
    "cols=['hamagen_reduce_my_risk', 'cellular_reduce_my_risk'] \n",
    "small=sur[cols]\n",
    "df1 = small.apply(pd.Series.value_counts)\n",
    "df1.head()\n",
    "likert_colors = ['firebrick','lightcoral','gainsboro','cornflowerblue', 'darkblue']\n",
    "pivot_df = df1.transpose() \n",
    "\n",
    "pivot_df.rename(index={'hamagen_reduce_my_risk':'hamagen_reduce_my_risk'},inplace=True)\n",
    "pivot_df.rename(index={'cellular_reduce_my_risk':'cellular_reduce_my_risk'},inplace=True)\n",
    "\n",
    "#pivot_df.columns = ['Strongly Disagree','Disagree','Neutral','Agree','Strongly Agree']\n",
    "create_stacked_bar(pivot_df, 1.4, figsize=(11,4.5), savefile=True)\n",
    "pivot_df"
   ]
  },
  {
   "cell_type": "code",
   "execution_count": 85,
   "metadata": {},
   "outputs": [
    {
     "data": {
      "text/plain": [
       "<AxesSubplot:xlabel='hamagen_install'>"
      ]
     },
     "execution_count": 85,
     "metadata": {},
     "output_type": "execute_result"
    },
    {
     "data": {
      "image/png": "[encoded data removed]",
      "text/plain": [
       "<Figure size 576x720 with 1 Axes>"
      ]
     },
     "metadata": {
      "needs_background": "light"
     },
     "output_type": "display_data"
    }
   ],
   "source": [
    "pd.crosstab(sur.hamagen_install,sur.age_group).plot(kind='bar')\n"
   ]
  },
  {
   "cell_type": "code",
   "execution_count": 86,
   "metadata": {},
   "outputs": [
    {
     "data": {
      "text/plain": [
       "-0.216254002775652"
      ]
     },
     "execution_count": 86,
     "metadata": {},
     "output_type": "execute_result"
    }
   ],
   "source": [
    "sur.cellular_accept_leave_phone_home.corr(sur.cellular_trust_delete)"
   ]
  },
  {
   "cell_type": "code",
   "execution_count": 87,
   "metadata": {},
   "outputs": [
    {
     "data": {
      "text/plain": [
       "Ttest_relResult(statistic=-1.8204559911317484, pvalue=0.06926646431096624)"
      ]
     },
     "execution_count": 87,
     "metadata": {},
     "output_type": "execute_result"
    },
    {
     "data": {
      "image/png": "[encoded data removed]",
      "text/plain": [
       "<Figure size 576x720 with 1 Axes>"
      ]
     },
     "metadata": {
      "needs_background": "light"
     },
     "output_type": "display_data"
    }
   ],
   "source": [
    "sur.boxplot(column=['hamagen_can_collect_sensitive', 'cellular_can_collect'])\n",
    "stats.ttest_rel(sur['hamagen_can_collect_sensitive'], sur['cellular_can_collect'])\n",
    "#stats.wilcoxon(sur['hamagen_help_prevent'], sur['cellular_help_prevent'])\n"
   ]
  },
  {
   "cell_type": "code",
   "execution_count": 88,
   "metadata": {},
   "outputs": [
    {
     "data": {
      "text/plain": [
       "Ttest_relResult(statistic=-0.7536231544523575, pvalue=0.4514179413395366)"
      ]
     },
     "execution_count": 88,
     "metadata": {},
     "output_type": "execute_result"
    },
    {
     "data": {
      "image/png": "[encoded data removed]",
      "text/plain": [
       "<Figure size 576x720 with 1 Axes>"
      ]
     },
     "metadata": {
      "needs_background": "light"
     },
     "output_type": "display_data"
    }
   ],
   "source": [
    "sur.boxplot(column=['hamagen_privacy_concern', 'cellular_privacy_concern'])\n",
    "stats.ttest_rel(sur['hamagen_privacy_concern'], sur['cellular_privacy_concern'])\n",
    "#stats.wilcoxon(sur['hamagen_help_prevent'], sur['cellular_help_prevent'])"
   ]
  },
  {
   "cell_type": "code",
   "execution_count": 89,
   "metadata": {},
   "outputs": [
    {
     "data": {
      "text/plain": [
       "Ttest_relResult(statistic=-1.7654944583904413, pvalue=0.07806979910727373)"
      ]
     },
     "execution_count": 89,
     "metadata": {},
     "output_type": "execute_result"
    },
    {
     "data": {
      "image/png": "[encoded data removed]",
      "text/plain": [
       "<Figure size 576x720 with 1 Axes>"
      ]
     },
     "metadata": {
      "needs_background": "light"
     },
     "output_type": "display_data"
    }
   ],
   "source": [
    "sur.boxplot(column=['hamagen_reduce_my_risk', 'cellular_reduce_my_risk'])\n",
    "stats.ttest_rel(sur['hamagen_reduce_my_risk'], sur['cellular_reduce_my_risk'])\n",
    "#stats.wilcoxon(sur['hamagen_help_prevent'], sur['cellular_help_prevent'])"
   ]
  },
  {
   "cell_type": "code",
   "execution_count": 90,
   "metadata": {},
   "outputs": [
    {
     "data": {
      "text/plain": [
       "WilcoxonResult(statistic=18579.5, pvalue=0.01884950499683455)"
      ]
     },
     "execution_count": 90,
     "metadata": {},
     "output_type": "execute_result"
    },
    {
     "data": {
      "image/png": "[encoded data removed]",
      "text/plain": [
       "<Figure size 576x720 with 1 Axes>"
      ]
     },
     "metadata": {
      "needs_background": "light"
     },
     "output_type": "display_data"
    }
   ],
   "source": [
    "df = pd.DataFrame(data = sur, columns = ['hamagen_limited_utility','cellular_utility'])\n",
    "\n",
    "sns.boxplot(x=\"variable\", y=\"value\", data=pd.melt(df))\n",
    "plt.savefig('hamagen_cellular_utility.png', format='png', landscape='landscape', figsize=(6,6))\n",
    "stats.ttest_rel(sur['hamagen_limited_utility'], sur['cellular_utility'])\n",
    "stats.wilcoxon(sur['hamagen_limited_utility'], sur['cellular_utility'])"
   ]
  },
  {
   "cell_type": "code",
   "execution_count": 91,
   "metadata": {},
   "outputs": [
    {
     "data": {
      "text/plain": [
       "<AxesSubplot:xlabel='variable', ylabel='value'>"
      ]
     },
     "execution_count": 91,
     "metadata": {},
     "output_type": "execute_result"
    },
    {
     "data": {
      "image/png": "[encoded data removed]",
      "text/plain": [
       "<Figure size 576x720 with 1 Axes>"
      ]
     },
     "metadata": {
      "needs_background": "light"
     },
     "output_type": "display_data"
    }
   ],
   "source": [
    "df = pd.DataFrame(data = sur, columns = ['cellular_can_collect','hamagen_can_collect_sensitive'])\n",
    "\n",
    "sns.boxplot(x=\"variable\", y=\"value\", data=pd.melt(df))\n",
    "#plt.savefig('hamagen_cellular_sensitive.png', format='png')\n",
    "#stats.wilcoxon(sur['cellular_can_collect'], sur['hamagen_can_collect_sensitive'])"
   ]
  },
  {
   "cell_type": "markdown",
   "metadata": {},
   "source": [
    "# Factor Analysis\n",
    "\n",
    "from: https://www.datacamp.com/community/tutorials/introduction-factor-analysis\n",
    "\n",
    "API: https://factor-analyzer.readthedocs.io/en/latest/factor_analyzer.html\n"
   ]
  },
  {
   "cell_type": "code",
   "execution_count": 1,
   "metadata": {},
   "outputs": [
    {
     "ename": "NameError",
     "evalue": "name 'sur' is not defined",
     "output_type": "error",
     "traceback": [
      "\u001b[0;31m---------------------------------------------------------------------------\u001b[0m",
      "\u001b[0;31mNameError\u001b[0m                                 Traceback (most recent call last)",
      "\u001b[0;32m<ipython-input-1-b97c11e38d30>\u001b[0m in \u001b[0;36m<module>\u001b[0;34m\u001b[0m\n\u001b[1;32m      6\u001b[0m \u001b[0;31m#model_dict = {\"F1\": [\"V1\", \"V2\", \"V3\", \"V4\"], \"F2\": [\"V5\", \"V6\", \"V7\", \"V8\"]}\u001b[0m\u001b[0;34m\u001b[0m\u001b[0;34m\u001b[0m\u001b[0;34m\u001b[0m\u001b[0m\n\u001b[1;32m      7\u001b[0m \u001b[0;34m\u001b[0m\u001b[0m\n\u001b[0;32m----> 8\u001b[0;31m \u001b[0mmodel_spec\u001b[0m \u001b[0;34m=\u001b[0m \u001b[0mModelSpecificationParser\u001b[0m\u001b[0;34m.\u001b[0m\u001b[0mparse_model_specification_from_dict\u001b[0m\u001b[0;34m(\u001b[0m\u001b[0msur\u001b[0m\u001b[0;34m,\u001b[0m \u001b[0mmodel_dict\u001b[0m\u001b[0;34m)\u001b[0m\u001b[0;34m\u001b[0m\u001b[0;34m\u001b[0m\u001b[0m\n\u001b[0m\u001b[1;32m      9\u001b[0m \u001b[0;34m\u001b[0m\u001b[0m\n\u001b[1;32m     10\u001b[0m \u001b[0mcfa\u001b[0m \u001b[0;34m=\u001b[0m \u001b[0mConfirmatoryFactorAnalyzer\u001b[0m\u001b[0;34m(\u001b[0m\u001b[0mmodel_spec\u001b[0m\u001b[0;34m,\u001b[0m \u001b[0mdisp\u001b[0m\u001b[0;34m=\u001b[0m\u001b[0;32mFalse\u001b[0m\u001b[0;34m)\u001b[0m\u001b[0;34m\u001b[0m\u001b[0;34m\u001b[0m\u001b[0m\n",
      "\u001b[0;31mNameError\u001b[0m: name 'sur' is not defined"
     ]
    }
   ],
   "source": [
    "from factor_analyzer import (ConfirmatoryFactorAnalyzer, ModelSpecificationParser)    \n",
    "\n",
    "model_dict = {\"hamagen_privacy\": [\"hamagen_privacy_concern\", \"hamagen_can_collect_sensitive\"], \n",
    "              \"covid_concern\": [\"corona_threat_population\", \"corona_threat_me\", \"corona_worry_me\"]}\n",
    "\n",
    "#model_dict = {\"F1\": [\"V1\", \"V2\", \"V3\", \"V4\"], \"F2\": [\"V5\", \"V6\", \"V7\", \"V8\"]}\n",
    "\n",
    "model_spec = ModelSpecificationParser.parse_model_specification_from_dict(sur, model_dict)\n",
    "\n",
    "cfa = ConfirmatoryFactorAnalyzer(model_spec, disp=False) \n",
    "\n",
    "cfa.fit(sur.values) \n",
    "\n",
    "cfa.loadings_ "
   ]
  },
  {
   "cell_type": "code",
   "execution_count": 333,
   "metadata": {},
   "outputs": [],
   "source": [
    "cols=['corona_threat_population', 'corona_threat_me', 'corona_worry_me', 'corona_worry_others', \n",
    "     'hamagen_privacy_concern', 'hamagen_can_collect_sensitive', \n",
    "      'cellular_help_prevent', 'cellular_reduce_my_risk', 'cellular_trust_delete',\n",
    "      'hamagen_recommend', 'hamagen_public_areas',\n",
    "     'hamagen_help_no_infect', 'hamagen_reduce_my_risk'] \n",
    "X=sur[cols]\n",
    "\n",
    "\n",
    "\n",
    "#sur['hamagen_privacy'] = (sur.hamagen_privacy_concern + sur.hamagen_can_collect_sensitive) / 2\n",
    "#sur['cellular_utility'] = (sur.cellular_help_prevent + sur.cellular_reduce_my_risk) / 2\n",
    "#sur['cellular_privacy'] = (sur.cellular_privacy_concern + sur.cellular_can_collect) / 2\n",
    "#sur['hamagen_limited_utility'] = (sur.hamagen_help_no_infect + sur.hamagen_reduce_my_risk) / 2\n",
    "#sur['cellular_attitude'] = (sur.cellular_help_prevent + sur.cellular_reduce_my_risk + sur.cellular_trust_delete) / 3 \n",
    "#sur['hamagen_attitude'] = (sur.hamagen_recommend + sur.hamagen_public_areas) / 2\n",
    "#sur['covid_concern'] = (sur.corona_threat_population + sur.corona_threat_me + sur.corona_worry_me) / 3"
   ]
  },
  {
   "cell_type": "code",
   "execution_count": 334,
   "metadata": {},
   "outputs": [
    {
     "data": {
      "image/png": "[encoded data removed]",
      "text/plain": [
       "<Figure size 720x720 with 1 Axes>"
      ]
     },
     "metadata": {
      "needs_background": "light"
     },
     "output_type": "display_data"
    },
    {
     "data": {
      "text/html": [
       "<div>\n",
       "<style scoped>\n",
       "    .dataframe tbody tr th:only-of-type {\n",
       "        vertical-align: middle;\n",
       "    }\n",
       "\n",
       "    .dataframe tbody tr th {\n",
       "        vertical-align: top;\n",
       "    }\n",
       "\n",
       "    .dataframe thead th {\n",
       "        text-align: right;\n",
       "    }\n",
       "</style>\n",
       "<table border=\"1\" class=\"dataframe\">\n",
       "  <thead>\n",
       "    <tr style=\"text-align: right;\">\n",
       "      <th></th>\n",
       "      <th>corona_threat_population</th>\n",
       "      <th>corona_threat_me</th>\n",
       "      <th>corona_worry_me</th>\n",
       "      <th>corona_worry_others</th>\n",
       "      <th>hamagen_privacy_concern</th>\n",
       "      <th>hamagen_can_collect_sensitive</th>\n",
       "      <th>cellular_help_prevent</th>\n",
       "      <th>cellular_reduce_my_risk</th>\n",
       "      <th>cellular_trust_delete</th>\n",
       "      <th>hamagen_recommend</th>\n",
       "      <th>hamagen_public_areas</th>\n",
       "      <th>hamagen_help_no_infect</th>\n",
       "      <th>hamagen_reduce_my_risk</th>\n",
       "    </tr>\n",
       "  </thead>\n",
       "  <tbody>\n",
       "    <tr>\n",
       "      <th>corona_threat_population</th>\n",
       "      <td>1.000000</td>\n",
       "      <td>0.698606</td>\n",
       "      <td>0.634074</td>\n",
       "      <td>0.568148</td>\n",
       "      <td>0.035292</td>\n",
       "      <td>0.054131</td>\n",
       "      <td>0.052709</td>\n",
       "      <td>0.060200</td>\n",
       "      <td>0.068248</td>\n",
       "      <td>0.161028</td>\n",
       "      <td>0.171095</td>\n",
       "      <td>0.167657</td>\n",
       "      <td>0.156239</td>\n",
       "    </tr>\n",
       "    <tr>\n",
       "      <th>corona_threat_me</th>\n",
       "      <td>0.698606</td>\n",
       "      <td>1.000000</td>\n",
       "      <td>0.778991</td>\n",
       "      <td>0.543251</td>\n",
       "      <td>0.073919</td>\n",
       "      <td>0.054667</td>\n",
       "      <td>0.068236</td>\n",
       "      <td>0.124738</td>\n",
       "      <td>0.119095</td>\n",
       "      <td>0.213523</td>\n",
       "      <td>0.183048</td>\n",
       "      <td>0.190840</td>\n",
       "      <td>0.157435</td>\n",
       "    </tr>\n",
       "    <tr>\n",
       "      <th>corona_worry_me</th>\n",
       "      <td>0.634074</td>\n",
       "      <td>0.778991</td>\n",
       "      <td>1.000000</td>\n",
       "      <td>0.684017</td>\n",
       "      <td>0.025167</td>\n",
       "      <td>0.026775</td>\n",
       "      <td>0.090040</td>\n",
       "      <td>0.078356</td>\n",
       "      <td>0.151987</td>\n",
       "      <td>0.236845</td>\n",
       "      <td>0.248726</td>\n",
       "      <td>0.207714</td>\n",
       "      <td>0.123807</td>\n",
       "    </tr>\n",
       "    <tr>\n",
       "      <th>corona_worry_others</th>\n",
       "      <td>0.568148</td>\n",
       "      <td>0.543251</td>\n",
       "      <td>0.684017</td>\n",
       "      <td>1.000000</td>\n",
       "      <td>0.048766</td>\n",
       "      <td>0.081176</td>\n",
       "      <td>0.113388</td>\n",
       "      <td>0.043736</td>\n",
       "      <td>0.041880</td>\n",
       "      <td>0.152218</td>\n",
       "      <td>0.185494</td>\n",
       "      <td>0.184288</td>\n",
       "      <td>0.090756</td>\n",
       "    </tr>\n",
       "    <tr>\n",
       "      <th>hamagen_privacy_concern</th>\n",
       "      <td>0.035292</td>\n",
       "      <td>0.073919</td>\n",
       "      <td>0.025167</td>\n",
       "      <td>0.048766</td>\n",
       "      <td>1.000000</td>\n",
       "      <td>0.645640</td>\n",
       "      <td>-0.242754</td>\n",
       "      <td>-0.217172</td>\n",
       "      <td>-0.336809</td>\n",
       "      <td>-0.315366</td>\n",
       "      <td>-0.246969</td>\n",
       "      <td>-0.191394</td>\n",
       "      <td>-0.138788</td>\n",
       "    </tr>\n",
       "    <tr>\n",
       "      <th>hamagen_can_collect_sensitive</th>\n",
       "      <td>0.054131</td>\n",
       "      <td>0.054667</td>\n",
       "      <td>0.026775</td>\n",
       "      <td>0.081176</td>\n",
       "      <td>0.645640</td>\n",
       "      <td>1.000000</td>\n",
       "      <td>-0.122932</td>\n",
       "      <td>-0.104328</td>\n",
       "      <td>-0.343339</td>\n",
       "      <td>-0.227465</td>\n",
       "      <td>-0.124559</td>\n",
       "      <td>-0.059088</td>\n",
       "      <td>-0.046605</td>\n",
       "    </tr>\n",
       "    <tr>\n",
       "      <th>cellular_help_prevent</th>\n",
       "      <td>0.052709</td>\n",
       "      <td>0.068236</td>\n",
       "      <td>0.090040</td>\n",
       "      <td>0.113388</td>\n",
       "      <td>-0.242754</td>\n",
       "      <td>-0.122932</td>\n",
       "      <td>1.000000</td>\n",
       "      <td>0.704603</td>\n",
       "      <td>0.422108</td>\n",
       "      <td>0.416630</td>\n",
       "      <td>0.388150</td>\n",
       "      <td>0.594232</td>\n",
       "      <td>0.503183</td>\n",
       "    </tr>\n",
       "    <tr>\n",
       "      <th>cellular_reduce_my_risk</th>\n",
       "      <td>0.060200</td>\n",
       "      <td>0.124738</td>\n",
       "      <td>0.078356</td>\n",
       "      <td>0.043736</td>\n",
       "      <td>-0.217172</td>\n",
       "      <td>-0.104328</td>\n",
       "      <td>0.704603</td>\n",
       "      <td>1.000000</td>\n",
       "      <td>0.373775</td>\n",
       "      <td>0.395445</td>\n",
       "      <td>0.395816</td>\n",
       "      <td>0.584867</td>\n",
       "      <td>0.669432</td>\n",
       "    </tr>\n",
       "    <tr>\n",
       "      <th>cellular_trust_delete</th>\n",
       "      <td>0.068248</td>\n",
       "      <td>0.119095</td>\n",
       "      <td>0.151987</td>\n",
       "      <td>0.041880</td>\n",
       "      <td>-0.336809</td>\n",
       "      <td>-0.343339</td>\n",
       "      <td>0.422108</td>\n",
       "      <td>0.373775</td>\n",
       "      <td>1.000000</td>\n",
       "      <td>0.311923</td>\n",
       "      <td>0.314619</td>\n",
       "      <td>0.356353</td>\n",
       "      <td>0.269800</td>\n",
       "    </tr>\n",
       "    <tr>\n",
       "      <th>hamagen_recommend</th>\n",
       "      <td>0.161028</td>\n",
       "      <td>0.213523</td>\n",
       "      <td>0.236845</td>\n",
       "      <td>0.152218</td>\n",
       "      <td>-0.315366</td>\n",
       "      <td>-0.227465</td>\n",
       "      <td>0.416630</td>\n",
       "      <td>0.395445</td>\n",
       "      <td>0.311923</td>\n",
       "      <td>1.000000</td>\n",
       "      <td>0.565458</td>\n",
       "      <td>0.537873</td>\n",
       "      <td>0.447148</td>\n",
       "    </tr>\n",
       "    <tr>\n",
       "      <th>hamagen_public_areas</th>\n",
       "      <td>0.171095</td>\n",
       "      <td>0.183048</td>\n",
       "      <td>0.248726</td>\n",
       "      <td>0.185494</td>\n",
       "      <td>-0.246969</td>\n",
       "      <td>-0.124559</td>\n",
       "      <td>0.388150</td>\n",
       "      <td>0.395816</td>\n",
       "      <td>0.314619</td>\n",
       "      <td>0.565458</td>\n",
       "      <td>1.000000</td>\n",
       "      <td>0.448689</td>\n",
       "      <td>0.409371</td>\n",
       "    </tr>\n",
       "    <tr>\n",
       "      <th>hamagen_help_no_infect</th>\n",
       "      <td>0.167657</td>\n",
       "      <td>0.190840</td>\n",
       "      <td>0.207714</td>\n",
       "      <td>0.184288</td>\n",
       "      <td>-0.191394</td>\n",
       "      <td>-0.059088</td>\n",
       "      <td>0.594232</td>\n",
       "      <td>0.584867</td>\n",
       "      <td>0.356353</td>\n",
       "      <td>0.537873</td>\n",
       "      <td>0.448689</td>\n",
       "      <td>1.000000</td>\n",
       "      <td>0.731270</td>\n",
       "    </tr>\n",
       "    <tr>\n",
       "      <th>hamagen_reduce_my_risk</th>\n",
       "      <td>0.156239</td>\n",
       "      <td>0.157435</td>\n",
       "      <td>0.123807</td>\n",
       "      <td>0.090756</td>\n",
       "      <td>-0.138788</td>\n",
       "      <td>-0.046605</td>\n",
       "      <td>0.503183</td>\n",
       "      <td>0.669432</td>\n",
       "      <td>0.269800</td>\n",
       "      <td>0.447148</td>\n",
       "      <td>0.409371</td>\n",
       "      <td>0.731270</td>\n",
       "      <td>1.000000</td>\n",
       "    </tr>\n",
       "  </tbody>\n",
       "</table>\n",
       "</div>"
      ],
      "text/plain": [
       "                               corona_threat_population  corona_threat_me  \\\n",
       "corona_threat_population                       1.000000          0.698606   \n",
       "corona_threat_me                               0.698606          1.000000   \n",
       "corona_worry_me                                0.634074          0.778991   \n",
       "corona_worry_others                            0.568148          0.543251   \n",
       "hamagen_privacy_concern                        0.035292          0.073919   \n",
       "hamagen_can_collect_sensitive                  0.054131          0.054667   \n",
       "cellular_help_prevent                          0.052709          0.068236   \n",
       "cellular_reduce_my_risk                        0.060200          0.124738   \n",
       "cellular_trust_delete                          0.068248          0.119095   \n",
       "hamagen_recommend                              0.161028          0.213523   \n",
       "hamagen_public_areas                           0.171095          0.183048   \n",
       "hamagen_help_no_infect                         0.167657          0.190840   \n",
       "hamagen_reduce_my_risk                         0.156239          0.157435   \n",
       "\n",
       "                               corona_worry_me  corona_worry_others  \\\n",
       "corona_threat_population              0.634074             0.568148   \n",
       "corona_threat_me                      0.778991             0.543251   \n",
       "corona_worry_me                       1.000000             0.684017   \n",
       "corona_worry_others                   0.684017             1.000000   \n",
       "hamagen_privacy_concern               0.025167             0.048766   \n",
       "hamagen_can_collect_sensitive         0.026775             0.081176   \n",
       "cellular_help_prevent                 0.090040             0.113388   \n",
       "cellular_reduce_my_risk               0.078356             0.043736   \n",
       "cellular_trust_delete                 0.151987             0.041880   \n",
       "hamagen_recommend                     0.236845             0.152218   \n",
       "hamagen_public_areas                  0.248726             0.185494   \n",
       "hamagen_help_no_infect                0.207714             0.184288   \n",
       "hamagen_reduce_my_risk                0.123807             0.090756   \n",
       "\n",
       "                               hamagen_privacy_concern  \\\n",
       "corona_threat_population                      0.035292   \n",
       "corona_threat_me                              0.073919   \n",
       "corona_worry_me                               0.025167   \n",
       "corona_worry_others                           0.048766   \n",
       "hamagen_privacy_concern                       1.000000   \n",
       "hamagen_can_collect_sensitive                 0.645640   \n",
       "cellular_help_prevent                        -0.242754   \n",
       "cellular_reduce_my_risk                      -0.217172   \n",
       "cellular_trust_delete                        -0.336809   \n",
       "hamagen_recommend                            -0.315366   \n",
       "hamagen_public_areas                         -0.246969   \n",
       "hamagen_help_no_infect                       -0.191394   \n",
       "hamagen_reduce_my_risk                       -0.138788   \n",
       "\n",
       "                               hamagen_can_collect_sensitive  \\\n",
       "corona_threat_population                            0.054131   \n",
       "corona_threat_me                                    0.054667   \n",
       "corona_worry_me                                     0.026775   \n",
       "corona_worry_others                                 0.081176   \n",
       "hamagen_privacy_concern                             0.645640   \n",
       "hamagen_can_collect_sensitive                       1.000000   \n",
       "cellular_help_prevent                              -0.122932   \n",
       "cellular_reduce_my_risk                            -0.104328   \n",
       "cellular_trust_delete                              -0.343339   \n",
       "hamagen_recommend                                  -0.227465   \n",
       "hamagen_public_areas                               -0.124559   \n",
       "hamagen_help_no_infect                             -0.059088   \n",
       "hamagen_reduce_my_risk                             -0.046605   \n",
       "\n",
       "                               cellular_help_prevent  cellular_reduce_my_risk  \\\n",
       "corona_threat_population                    0.052709                 0.060200   \n",
       "corona_threat_me                            0.068236                 0.124738   \n",
       "corona_worry_me                             0.090040                 0.078356   \n",
       "corona_worry_others                         0.113388                 0.043736   \n",
       "hamagen_privacy_concern                    -0.242754                -0.217172   \n",
       "hamagen_can_collect_sensitive              -0.122932                -0.104328   \n",
       "cellular_help_prevent                       1.000000                 0.704603   \n",
       "cellular_reduce_my_risk                     0.704603                 1.000000   \n",
       "cellular_trust_delete                       0.422108                 0.373775   \n",
       "hamagen_recommend                           0.416630                 0.395445   \n",
       "hamagen_public_areas                        0.388150                 0.395816   \n",
       "hamagen_help_no_infect                      0.594232                 0.584867   \n",
       "hamagen_reduce_my_risk                      0.503183                 0.669432   \n",
       "\n",
       "                               cellular_trust_delete  hamagen_recommend  \\\n",
       "corona_threat_population                    0.068248           0.161028   \n",
       "corona_threat_me                            0.119095           0.213523   \n",
       "corona_worry_me                             0.151987           0.236845   \n",
       "corona_worry_others                         0.041880           0.152218   \n",
       "hamagen_privacy_concern                    -0.336809          -0.315366   \n",
       "hamagen_can_collect_sensitive              -0.343339          -0.227465   \n",
       "cellular_help_prevent                       0.422108           0.416630   \n",
       "cellular_reduce_my_risk                     0.373775           0.395445   \n",
       "cellular_trust_delete                       1.000000           0.311923   \n",
       "hamagen_recommend                           0.311923           1.000000   \n",
       "hamagen_public_areas                        0.314619           0.565458   \n",
       "hamagen_help_no_infect                      0.356353           0.537873   \n",
       "hamagen_reduce_my_risk                      0.269800           0.447148   \n",
       "\n",
       "                               hamagen_public_areas  hamagen_help_no_infect  \\\n",
       "corona_threat_population                   0.171095                0.167657   \n",
       "corona_threat_me                           0.183048                0.190840   \n",
       "corona_worry_me                            0.248726                0.207714   \n",
       "corona_worry_others                        0.185494                0.184288   \n",
       "hamagen_privacy_concern                   -0.246969               -0.191394   \n",
       "hamagen_can_collect_sensitive             -0.124559               -0.059088   \n",
       "cellular_help_prevent                      0.388150                0.594232   \n",
       "cellular_reduce_my_risk                    0.395816                0.584867   \n",
       "cellular_trust_delete                      0.314619                0.356353   \n",
       "hamagen_recommend                          0.565458                0.537873   \n",
       "hamagen_public_areas                       1.000000                0.448689   \n",
       "hamagen_help_no_infect                     0.448689                1.000000   \n",
       "hamagen_reduce_my_risk                     0.409371                0.731270   \n",
       "\n",
       "                               hamagen_reduce_my_risk  \n",
       "corona_threat_population                     0.156239  \n",
       "corona_threat_me                             0.157435  \n",
       "corona_worry_me                              0.123807  \n",
       "corona_worry_others                          0.090756  \n",
       "hamagen_privacy_concern                     -0.138788  \n",
       "hamagen_can_collect_sensitive               -0.046605  \n",
       "cellular_help_prevent                        0.503183  \n",
       "cellular_reduce_my_risk                      0.669432  \n",
       "cellular_trust_delete                        0.269800  \n",
       "hamagen_recommend                            0.447148  \n",
       "hamagen_public_areas                         0.409371  \n",
       "hamagen_help_no_infect                       0.731270  \n",
       "hamagen_reduce_my_risk                       1.000000  "
      ]
     },
     "execution_count": 334,
     "metadata": {},
     "output_type": "execute_result"
    }
   ],
   "source": [
    "\n",
    "plt.matshow(X.corr())\n",
    "plt.show()\n",
    "X.corr()"
   ]
  },
  {
   "cell_type": "code",
   "execution_count": 299,
   "metadata": {},
   "outputs": [
    {
     "data": {
      "text/plain": [
       "(397.2146070175929, 1.1151710355307094e-88)"
      ]
     },
     "execution_count": 299,
     "metadata": {},
     "output_type": "execute_result"
    }
   ],
   "source": [
    "from factor_analyzer.factor_analyzer import calculate_bartlett_sphericity\n",
    "chi_square_value,p_value=calculate_bartlett_sphericity(X)\n",
    "chi_square_value, p_value\n"
   ]
  },
  {
   "cell_type": "markdown",
   "metadata": {},
   "source": [
    "In this Bartlett ’s test, the p-value is 0. The test was statistically significant, indicating that the observed correlation matrix is not an identity matrix."
   ]
  },
  {
   "cell_type": "code",
   "execution_count": 300,
   "metadata": {},
   "outputs": [
    {
     "data": {
      "text/plain": [
       "0.4990356807424434"
      ]
     },
     "execution_count": 300,
     "metadata": {},
     "output_type": "execute_result"
    }
   ],
   "source": [
    "from factor_analyzer.factor_analyzer import calculate_kmo\n",
    "kmo_all,kmo_model=calculate_kmo(X)\n",
    "kmo_model\n"
   ]
  },
  {
   "cell_type": "code",
   "execution_count": 302,
   "metadata": {},
   "outputs": [
    {
     "name": "stdout",
     "output_type": "stream",
     "text": [
      "[[0.85514334]\n",
      " [0.85514334]]\n"
     ]
    }
   ],
   "source": [
    "fa = FactorAnalyzer(rotation=\"varimax\", n_factors=1)\n",
    "fa.fit(X)\n",
    "print(fa.loadings_)"
   ]
  },
  {
   "cell_type": "code",
   "execution_count": 146,
   "metadata": {},
   "outputs": [
    {
     "data": {
      "text/plain": [
       "array([0.5951658 , 0.72853722, 0.81219003, 0.51875477, 0.62207634,\n",
       "       0.99868097, 0.79950742, 0.99829716, 0.48169963, 0.96640513,\n",
       "       0.99714776, 0.62503794])"
      ]
     },
     "execution_count": 146,
     "metadata": {},
     "output_type": "execute_result"
    }
   ],
   "source": [
    "fa.get_communalities()"
   ]
  },
  {
   "cell_type": "code",
   "execution_count": 147,
   "metadata": {},
   "outputs": [
    {
     "data": {
      "text/plain": [
       "array([4.28024988, 2.70244978, 1.50373868, 0.9659477 , 0.57165441,\n",
       "       0.48800675, 0.38175228, 0.33520894, 0.32255023, 0.18663245,\n",
       "       0.16982006, 0.09198884])"
      ]
     },
     "execution_count": 147,
     "metadata": {},
     "output_type": "execute_result"
    }
   ],
   "source": [
    "ev, v = fa.get_eigenvalues()\n",
    "ev"
   ]
  },
  {
   "cell_type": "code",
   "execution_count": 148,
   "metadata": {},
   "outputs": [
    {
     "data": {
      "text/plain": [
       "(array([2.67634187, 2.06362722, 1.80573773, 1.46424697, 1.13354638]),\n",
       " array([0.22302849, 0.17196894, 0.15047814, 0.12202058, 0.0944622 ]),\n",
       " array([0.22302849, 0.39499742, 0.54547557, 0.66749615, 0.76195835]))"
      ]
     },
     "execution_count": 148,
     "metadata": {},
     "output_type": "execute_result"
    }
   ],
   "source": [
    "fa.get_factor_variance()"
   ]
  }
 ],
 "metadata": {
  "kernelspec": {
   "display_name": "Python 3",
   "language": "python",
   "name": "python3"
  },
  "language_info": {
   "codemirror_mode": {
    "name": "ipython",
    "version": 3
   },
   "file_extension": ".py",
   "mimetype": "text/x-python",
   "name": "python",
   "nbconvert_exporter": "python",
   "pygments_lexer": "ipython3",
   "version": "3.8.5"
  }
 },
 "nbformat": 4,
 "nbformat_minor": 4
}
